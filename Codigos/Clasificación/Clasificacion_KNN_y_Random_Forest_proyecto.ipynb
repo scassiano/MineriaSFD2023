{
  "nbformat": 4,
  "nbformat_minor": 0,
  "metadata": {
    "colab": {
      "provenance": []
    },
    "kernelspec": {
      "name": "python3",
      "display_name": "Python 3"
    },
    "language_info": {
      "name": "python"
    }
  },
  "cells": [
    {
      "cell_type": "markdown",
      "source": [
        "# **Clasificación KNN y Random Forest Proyecto**\n",
        "\n",
        "#### Integrantes\n",
        "- *Santiago Cassiano Rozo*\n",
        "- *Fabian Camilo Castro Lozano*\n",
        "- *David Jose Leon Aroca*"
      ],
      "metadata": {
        "id": "pD0-9gOU06_t"
      }
    },
    {
      "cell_type": "markdown",
      "source": [
        "#Acceso a librerias, a los datasets desde google drive"
      ],
      "metadata": {
        "id": "QLNQfsxCzu3I"
      }
    },
    {
      "cell_type": "markdown",
      "source": [
        "Acceso a los datasets en google drive"
      ],
      "metadata": {
        "id": "HXU29yWxjWOQ"
      }
    },
    {
      "cell_type": "code",
      "execution_count": 71,
      "metadata": {
        "colab": {
          "base_uri": "https://localhost:8080/"
        },
        "id": "IyCSEmxbftrN",
        "outputId": "f0ff4db4-52a6-46f3-a490-032925152565"
      },
      "outputs": [
        {
          "output_type": "stream",
          "name": "stdout",
          "text": [
            "Drive already mounted at /content/gdrive; to attempt to forcibly remount, call drive.mount(\"/content/gdrive\", force_remount=True).\n"
          ]
        }
      ],
      "source": [
        "from google.colab import drive\n",
        "drive.mount('/content/gdrive')"
      ]
    },
    {
      "cell_type": "markdown",
      "source": [
        "Importamos las librerias que utilizaremos a lo largo de la clasificación"
      ],
      "metadata": {
        "id": "b7IGE61VjZ28"
      }
    },
    {
      "cell_type": "code",
      "source": [
        "import pandas as pd\n",
        "import numpy as np\n",
        "import pylab as pl\n",
        "import matplotlib.pyplot as plt\n",
        "from tabulate import tabulate\n",
        "from sklearn import metrics\n",
        "from sklearn.model_selection import GridSearchCV, train_test_split\n",
        "from sklearn.preprocessing import StandardScaler\n",
        "from sklearn.metrics import confusion_matrix\n",
        "from sklearn.metrics import ConfusionMatrixDisplay\n",
        "from sklearn.neighbors import KNeighborsClassifier\n",
        "from sklearn.neighbors import RadiusNeighborsClassifier\n",
        "from sklearn.ensemble import RandomForestClassifier"
      ],
      "metadata": {
        "id": "iBixm5RajZdA"
      },
      "execution_count": 72,
      "outputs": []
    },
    {
      "cell_type": "markdown",
      "source": [
        "#0. Lectura y preparación de los datos para los algoritmos de clasificación."
      ],
      "metadata": {
        "id": "xe5vL4VzAgnt"
      }
    },
    {
      "cell_type": "markdown",
      "source": [
        "Leemos el dataset completamente numerico que generamos en la fase de preprocesamiento. Pero removemos el atributo duration, ya que queremos hacer un modelo que prediga si el cliente acepta o no el deposito previo a la llamada."
      ],
      "metadata": {
        "id": "Qa2jRy-5j1tp"
      }
    },
    {
      "cell_type": "code",
      "source": [
        "df_num_original = pd.read_csv(\"/content/gdrive/Shareddrives/Minería de datos/Proyecto/I. Dataset/numerico.csv\", sep=\",\")\n",
        "#Eliminamos la columna de los indices (Unnamed 0)\n",
        "df_num_original.drop(columns=['Unnamed: 0','duration'], inplace=True)\n",
        "\n",
        "df_num_original"
      ],
      "metadata": {
        "colab": {
          "base_uri": "https://localhost:8080/",
          "height": 444
        },
        "id": "pC5Auwrwj0OX",
        "outputId": "6410b251-5870-407e-9782-111b54c30142"
      },
      "execution_count": 73,
      "outputs": [
        {
          "output_type": "execute_result",
          "data": {
            "text/plain": [
              "       age  education  default  balance  housing  loan  contact  day  month  \\\n",
              "0       58          3        0     2143        1     0        0    5      5   \n",
              "1       44          2        0       29        1     0        0    5      5   \n",
              "2       33          2        0        2        1     1        0    5      5   \n",
              "3       47          2        0     1506        1     0        0    5      5   \n",
              "4       33          2        0        1        0     0        0    5      5   \n",
              "...    ...        ...      ...      ...      ...   ...      ...  ...    ...   \n",
              "41085   23          3        0      113        0     0        0   17     11   \n",
              "41086   25          2        0      505        0     1        0   17     11   \n",
              "41087   51          3        0      825        0     0        0   17     11   \n",
              "41088   71          1        0     1729        0     0        0   17     11   \n",
              "41089   57          2        0      668        0     0        1   17     11   \n",
              "\n",
              "       campaign  ...  services  student  technician  unemployed  divorced  \\\n",
              "0             1  ...         0        0           0           0         0   \n",
              "1             1  ...         0        0           1           0         0   \n",
              "2             1  ...         0        0           0           0         0   \n",
              "3             1  ...         0        0           0           0         0   \n",
              "4             1  ...         0        0           0           0         0   \n",
              "...         ...  ...       ...      ...         ...         ...       ...   \n",
              "41085         1  ...         0        1           0           0         0   \n",
              "41086         2  ...         0        0           1           0         0   \n",
              "41087         3  ...         0        0           1           0         0   \n",
              "41088         2  ...         0        0           0           0         1   \n",
              "41089         4  ...         0        0           0           0         0   \n",
              "\n",
              "       married  single  failure  other  success  \n",
              "0            1       0        1      0        0  \n",
              "1            0       1        1      0        0  \n",
              "2            1       0        1      0        0  \n",
              "3            1       0        1      0        0  \n",
              "4            0       1        1      0        0  \n",
              "...        ...     ...      ...    ...      ...  \n",
              "41085        0       1        1      0        0  \n",
              "41086        0       1        1      0        0  \n",
              "41087        1       0        1      0        0  \n",
              "41088        0       0        1      0        0  \n",
              "41089        1       0        1      0        0  \n",
              "\n",
              "[41090 rows x 30 columns]"
            ],
            "text/html": [
              "\n",
              "  <div id=\"df-e6bf8da7-234e-4c36-a959-72dfc3b4afa4\" class=\"colab-df-container\">\n",
              "    <div>\n",
              "<style scoped>\n",
              "    .dataframe tbody tr th:only-of-type {\n",
              "        vertical-align: middle;\n",
              "    }\n",
              "\n",
              "    .dataframe tbody tr th {\n",
              "        vertical-align: top;\n",
              "    }\n",
              "\n",
              "    .dataframe thead th {\n",
              "        text-align: right;\n",
              "    }\n",
              "</style>\n",
              "<table border=\"1\" class=\"dataframe\">\n",
              "  <thead>\n",
              "    <tr style=\"text-align: right;\">\n",
              "      <th></th>\n",
              "      <th>age</th>\n",
              "      <th>education</th>\n",
              "      <th>default</th>\n",
              "      <th>balance</th>\n",
              "      <th>housing</th>\n",
              "      <th>loan</th>\n",
              "      <th>contact</th>\n",
              "      <th>day</th>\n",
              "      <th>month</th>\n",
              "      <th>campaign</th>\n",
              "      <th>...</th>\n",
              "      <th>services</th>\n",
              "      <th>student</th>\n",
              "      <th>technician</th>\n",
              "      <th>unemployed</th>\n",
              "      <th>divorced</th>\n",
              "      <th>married</th>\n",
              "      <th>single</th>\n",
              "      <th>failure</th>\n",
              "      <th>other</th>\n",
              "      <th>success</th>\n",
              "    </tr>\n",
              "  </thead>\n",
              "  <tbody>\n",
              "    <tr>\n",
              "      <th>0</th>\n",
              "      <td>58</td>\n",
              "      <td>3</td>\n",
              "      <td>0</td>\n",
              "      <td>2143</td>\n",
              "      <td>1</td>\n",
              "      <td>0</td>\n",
              "      <td>0</td>\n",
              "      <td>5</td>\n",
              "      <td>5</td>\n",
              "      <td>1</td>\n",
              "      <td>...</td>\n",
              "      <td>0</td>\n",
              "      <td>0</td>\n",
              "      <td>0</td>\n",
              "      <td>0</td>\n",
              "      <td>0</td>\n",
              "      <td>1</td>\n",
              "      <td>0</td>\n",
              "      <td>1</td>\n",
              "      <td>0</td>\n",
              "      <td>0</td>\n",
              "    </tr>\n",
              "    <tr>\n",
              "      <th>1</th>\n",
              "      <td>44</td>\n",
              "      <td>2</td>\n",
              "      <td>0</td>\n",
              "      <td>29</td>\n",
              "      <td>1</td>\n",
              "      <td>0</td>\n",
              "      <td>0</td>\n",
              "      <td>5</td>\n",
              "      <td>5</td>\n",
              "      <td>1</td>\n",
              "      <td>...</td>\n",
              "      <td>0</td>\n",
              "      <td>0</td>\n",
              "      <td>1</td>\n",
              "      <td>0</td>\n",
              "      <td>0</td>\n",
              "      <td>0</td>\n",
              "      <td>1</td>\n",
              "      <td>1</td>\n",
              "      <td>0</td>\n",
              "      <td>0</td>\n",
              "    </tr>\n",
              "    <tr>\n",
              "      <th>2</th>\n",
              "      <td>33</td>\n",
              "      <td>2</td>\n",
              "      <td>0</td>\n",
              "      <td>2</td>\n",
              "      <td>1</td>\n",
              "      <td>1</td>\n",
              "      <td>0</td>\n",
              "      <td>5</td>\n",
              "      <td>5</td>\n",
              "      <td>1</td>\n",
              "      <td>...</td>\n",
              "      <td>0</td>\n",
              "      <td>0</td>\n",
              "      <td>0</td>\n",
              "      <td>0</td>\n",
              "      <td>0</td>\n",
              "      <td>1</td>\n",
              "      <td>0</td>\n",
              "      <td>1</td>\n",
              "      <td>0</td>\n",
              "      <td>0</td>\n",
              "    </tr>\n",
              "    <tr>\n",
              "      <th>3</th>\n",
              "      <td>47</td>\n",
              "      <td>2</td>\n",
              "      <td>0</td>\n",
              "      <td>1506</td>\n",
              "      <td>1</td>\n",
              "      <td>0</td>\n",
              "      <td>0</td>\n",
              "      <td>5</td>\n",
              "      <td>5</td>\n",
              "      <td>1</td>\n",
              "      <td>...</td>\n",
              "      <td>0</td>\n",
              "      <td>0</td>\n",
              "      <td>0</td>\n",
              "      <td>0</td>\n",
              "      <td>0</td>\n",
              "      <td>1</td>\n",
              "      <td>0</td>\n",
              "      <td>1</td>\n",
              "      <td>0</td>\n",
              "      <td>0</td>\n",
              "    </tr>\n",
              "    <tr>\n",
              "      <th>4</th>\n",
              "      <td>33</td>\n",
              "      <td>2</td>\n",
              "      <td>0</td>\n",
              "      <td>1</td>\n",
              "      <td>0</td>\n",
              "      <td>0</td>\n",
              "      <td>0</td>\n",
              "      <td>5</td>\n",
              "      <td>5</td>\n",
              "      <td>1</td>\n",
              "      <td>...</td>\n",
              "      <td>0</td>\n",
              "      <td>0</td>\n",
              "      <td>0</td>\n",
              "      <td>0</td>\n",
              "      <td>0</td>\n",
              "      <td>0</td>\n",
              "      <td>1</td>\n",
              "      <td>1</td>\n",
              "      <td>0</td>\n",
              "      <td>0</td>\n",
              "    </tr>\n",
              "    <tr>\n",
              "      <th>...</th>\n",
              "      <td>...</td>\n",
              "      <td>...</td>\n",
              "      <td>...</td>\n",
              "      <td>...</td>\n",
              "      <td>...</td>\n",
              "      <td>...</td>\n",
              "      <td>...</td>\n",
              "      <td>...</td>\n",
              "      <td>...</td>\n",
              "      <td>...</td>\n",
              "      <td>...</td>\n",
              "      <td>...</td>\n",
              "      <td>...</td>\n",
              "      <td>...</td>\n",
              "      <td>...</td>\n",
              "      <td>...</td>\n",
              "      <td>...</td>\n",
              "      <td>...</td>\n",
              "      <td>...</td>\n",
              "      <td>...</td>\n",
              "      <td>...</td>\n",
              "    </tr>\n",
              "    <tr>\n",
              "      <th>41085</th>\n",
              "      <td>23</td>\n",
              "      <td>3</td>\n",
              "      <td>0</td>\n",
              "      <td>113</td>\n",
              "      <td>0</td>\n",
              "      <td>0</td>\n",
              "      <td>0</td>\n",
              "      <td>17</td>\n",
              "      <td>11</td>\n",
              "      <td>1</td>\n",
              "      <td>...</td>\n",
              "      <td>0</td>\n",
              "      <td>1</td>\n",
              "      <td>0</td>\n",
              "      <td>0</td>\n",
              "      <td>0</td>\n",
              "      <td>0</td>\n",
              "      <td>1</td>\n",
              "      <td>1</td>\n",
              "      <td>0</td>\n",
              "      <td>0</td>\n",
              "    </tr>\n",
              "    <tr>\n",
              "      <th>41086</th>\n",
              "      <td>25</td>\n",
              "      <td>2</td>\n",
              "      <td>0</td>\n",
              "      <td>505</td>\n",
              "      <td>0</td>\n",
              "      <td>1</td>\n",
              "      <td>0</td>\n",
              "      <td>17</td>\n",
              "      <td>11</td>\n",
              "      <td>2</td>\n",
              "      <td>...</td>\n",
              "      <td>0</td>\n",
              "      <td>0</td>\n",
              "      <td>1</td>\n",
              "      <td>0</td>\n",
              "      <td>0</td>\n",
              "      <td>0</td>\n",
              "      <td>1</td>\n",
              "      <td>1</td>\n",
              "      <td>0</td>\n",
              "      <td>0</td>\n",
              "    </tr>\n",
              "    <tr>\n",
              "      <th>41087</th>\n",
              "      <td>51</td>\n",
              "      <td>3</td>\n",
              "      <td>0</td>\n",
              "      <td>825</td>\n",
              "      <td>0</td>\n",
              "      <td>0</td>\n",
              "      <td>0</td>\n",
              "      <td>17</td>\n",
              "      <td>11</td>\n",
              "      <td>3</td>\n",
              "      <td>...</td>\n",
              "      <td>0</td>\n",
              "      <td>0</td>\n",
              "      <td>1</td>\n",
              "      <td>0</td>\n",
              "      <td>0</td>\n",
              "      <td>1</td>\n",
              "      <td>0</td>\n",
              "      <td>1</td>\n",
              "      <td>0</td>\n",
              "      <td>0</td>\n",
              "    </tr>\n",
              "    <tr>\n",
              "      <th>41088</th>\n",
              "      <td>71</td>\n",
              "      <td>1</td>\n",
              "      <td>0</td>\n",
              "      <td>1729</td>\n",
              "      <td>0</td>\n",
              "      <td>0</td>\n",
              "      <td>0</td>\n",
              "      <td>17</td>\n",
              "      <td>11</td>\n",
              "      <td>2</td>\n",
              "      <td>...</td>\n",
              "      <td>0</td>\n",
              "      <td>0</td>\n",
              "      <td>0</td>\n",
              "      <td>0</td>\n",
              "      <td>1</td>\n",
              "      <td>0</td>\n",
              "      <td>0</td>\n",
              "      <td>1</td>\n",
              "      <td>0</td>\n",
              "      <td>0</td>\n",
              "    </tr>\n",
              "    <tr>\n",
              "      <th>41089</th>\n",
              "      <td>57</td>\n",
              "      <td>2</td>\n",
              "      <td>0</td>\n",
              "      <td>668</td>\n",
              "      <td>0</td>\n",
              "      <td>0</td>\n",
              "      <td>1</td>\n",
              "      <td>17</td>\n",
              "      <td>11</td>\n",
              "      <td>4</td>\n",
              "      <td>...</td>\n",
              "      <td>0</td>\n",
              "      <td>0</td>\n",
              "      <td>0</td>\n",
              "      <td>0</td>\n",
              "      <td>0</td>\n",
              "      <td>1</td>\n",
              "      <td>0</td>\n",
              "      <td>1</td>\n",
              "      <td>0</td>\n",
              "      <td>0</td>\n",
              "    </tr>\n",
              "  </tbody>\n",
              "</table>\n",
              "<p>41090 rows × 30 columns</p>\n",
              "</div>\n",
              "    <div class=\"colab-df-buttons\">\n",
              "\n",
              "  <div class=\"colab-df-container\">\n",
              "    <button class=\"colab-df-convert\" onclick=\"convertToInteractive('df-e6bf8da7-234e-4c36-a959-72dfc3b4afa4')\"\n",
              "            title=\"Convert this dataframe to an interactive table.\"\n",
              "            style=\"display:none;\">\n",
              "\n",
              "  <svg xmlns=\"http://www.w3.org/2000/svg\" height=\"24px\" viewBox=\"0 -960 960 960\">\n",
              "    <path d=\"M120-120v-720h720v720H120Zm60-500h600v-160H180v160Zm220 220h160v-160H400v160Zm0 220h160v-160H400v160ZM180-400h160v-160H180v160Zm440 0h160v-160H620v160ZM180-180h160v-160H180v160Zm440 0h160v-160H620v160Z\"/>\n",
              "  </svg>\n",
              "    </button>\n",
              "\n",
              "  <style>\n",
              "    .colab-df-container {\n",
              "      display:flex;\n",
              "      gap: 12px;\n",
              "    }\n",
              "\n",
              "    .colab-df-convert {\n",
              "      background-color: #E8F0FE;\n",
              "      border: none;\n",
              "      border-radius: 50%;\n",
              "      cursor: pointer;\n",
              "      display: none;\n",
              "      fill: #1967D2;\n",
              "      height: 32px;\n",
              "      padding: 0 0 0 0;\n",
              "      width: 32px;\n",
              "    }\n",
              "\n",
              "    .colab-df-convert:hover {\n",
              "      background-color: #E2EBFA;\n",
              "      box-shadow: 0px 1px 2px rgba(60, 64, 67, 0.3), 0px 1px 3px 1px rgba(60, 64, 67, 0.15);\n",
              "      fill: #174EA6;\n",
              "    }\n",
              "\n",
              "    .colab-df-buttons div {\n",
              "      margin-bottom: 4px;\n",
              "    }\n",
              "\n",
              "    [theme=dark] .colab-df-convert {\n",
              "      background-color: #3B4455;\n",
              "      fill: #D2E3FC;\n",
              "    }\n",
              "\n",
              "    [theme=dark] .colab-df-convert:hover {\n",
              "      background-color: #434B5C;\n",
              "      box-shadow: 0px 1px 3px 1px rgba(0, 0, 0, 0.15);\n",
              "      filter: drop-shadow(0px 1px 2px rgba(0, 0, 0, 0.3));\n",
              "      fill: #FFFFFF;\n",
              "    }\n",
              "  </style>\n",
              "\n",
              "    <script>\n",
              "      const buttonEl =\n",
              "        document.querySelector('#df-e6bf8da7-234e-4c36-a959-72dfc3b4afa4 button.colab-df-convert');\n",
              "      buttonEl.style.display =\n",
              "        google.colab.kernel.accessAllowed ? 'block' : 'none';\n",
              "\n",
              "      async function convertToInteractive(key) {\n",
              "        const element = document.querySelector('#df-e6bf8da7-234e-4c36-a959-72dfc3b4afa4');\n",
              "        const dataTable =\n",
              "          await google.colab.kernel.invokeFunction('convertToInteractive',\n",
              "                                                    [key], {});\n",
              "        if (!dataTable) return;\n",
              "\n",
              "        const docLinkHtml = 'Like what you see? Visit the ' +\n",
              "          '<a target=\"_blank\" href=https://colab.research.google.com/notebooks/data_table.ipynb>data table notebook</a>'\n",
              "          + ' to learn more about interactive tables.';\n",
              "        element.innerHTML = '';\n",
              "        dataTable['output_type'] = 'display_data';\n",
              "        await google.colab.output.renderOutput(dataTable, element);\n",
              "        const docLink = document.createElement('div');\n",
              "        docLink.innerHTML = docLinkHtml;\n",
              "        element.appendChild(docLink);\n",
              "      }\n",
              "    </script>\n",
              "  </div>\n",
              "\n",
              "\n",
              "<div id=\"df-9c50665e-dbbb-4403-aead-4f9f84670711\">\n",
              "  <button class=\"colab-df-quickchart\" onclick=\"quickchart('df-9c50665e-dbbb-4403-aead-4f9f84670711')\"\n",
              "            title=\"Suggest charts\"\n",
              "            style=\"display:none;\">\n",
              "\n",
              "<svg xmlns=\"http://www.w3.org/2000/svg\" height=\"24px\"viewBox=\"0 0 24 24\"\n",
              "     width=\"24px\">\n",
              "    <g>\n",
              "        <path d=\"M19 3H5c-1.1 0-2 .9-2 2v14c0 1.1.9 2 2 2h14c1.1 0 2-.9 2-2V5c0-1.1-.9-2-2-2zM9 17H7v-7h2v7zm4 0h-2V7h2v10zm4 0h-2v-4h2v4z\"/>\n",
              "    </g>\n",
              "</svg>\n",
              "  </button>\n",
              "\n",
              "<style>\n",
              "  .colab-df-quickchart {\n",
              "      --bg-color: #E8F0FE;\n",
              "      --fill-color: #1967D2;\n",
              "      --hover-bg-color: #E2EBFA;\n",
              "      --hover-fill-color: #174EA6;\n",
              "      --disabled-fill-color: #AAA;\n",
              "      --disabled-bg-color: #DDD;\n",
              "  }\n",
              "\n",
              "  [theme=dark] .colab-df-quickchart {\n",
              "      --bg-color: #3B4455;\n",
              "      --fill-color: #D2E3FC;\n",
              "      --hover-bg-color: #434B5C;\n",
              "      --hover-fill-color: #FFFFFF;\n",
              "      --disabled-bg-color: #3B4455;\n",
              "      --disabled-fill-color: #666;\n",
              "  }\n",
              "\n",
              "  .colab-df-quickchart {\n",
              "    background-color: var(--bg-color);\n",
              "    border: none;\n",
              "    border-radius: 50%;\n",
              "    cursor: pointer;\n",
              "    display: none;\n",
              "    fill: var(--fill-color);\n",
              "    height: 32px;\n",
              "    padding: 0;\n",
              "    width: 32px;\n",
              "  }\n",
              "\n",
              "  .colab-df-quickchart:hover {\n",
              "    background-color: var(--hover-bg-color);\n",
              "    box-shadow: 0 1px 2px rgba(60, 64, 67, 0.3), 0 1px 3px 1px rgba(60, 64, 67, 0.15);\n",
              "    fill: var(--button-hover-fill-color);\n",
              "  }\n",
              "\n",
              "  .colab-df-quickchart-complete:disabled,\n",
              "  .colab-df-quickchart-complete:disabled:hover {\n",
              "    background-color: var(--disabled-bg-color);\n",
              "    fill: var(--disabled-fill-color);\n",
              "    box-shadow: none;\n",
              "  }\n",
              "\n",
              "  .colab-df-spinner {\n",
              "    border: 2px solid var(--fill-color);\n",
              "    border-color: transparent;\n",
              "    border-bottom-color: var(--fill-color);\n",
              "    animation:\n",
              "      spin 1s steps(1) infinite;\n",
              "  }\n",
              "\n",
              "  @keyframes spin {\n",
              "    0% {\n",
              "      border-color: transparent;\n",
              "      border-bottom-color: var(--fill-color);\n",
              "      border-left-color: var(--fill-color);\n",
              "    }\n",
              "    20% {\n",
              "      border-color: transparent;\n",
              "      border-left-color: var(--fill-color);\n",
              "      border-top-color: var(--fill-color);\n",
              "    }\n",
              "    30% {\n",
              "      border-color: transparent;\n",
              "      border-left-color: var(--fill-color);\n",
              "      border-top-color: var(--fill-color);\n",
              "      border-right-color: var(--fill-color);\n",
              "    }\n",
              "    40% {\n",
              "      border-color: transparent;\n",
              "      border-right-color: var(--fill-color);\n",
              "      border-top-color: var(--fill-color);\n",
              "    }\n",
              "    60% {\n",
              "      border-color: transparent;\n",
              "      border-right-color: var(--fill-color);\n",
              "    }\n",
              "    80% {\n",
              "      border-color: transparent;\n",
              "      border-right-color: var(--fill-color);\n",
              "      border-bottom-color: var(--fill-color);\n",
              "    }\n",
              "    90% {\n",
              "      border-color: transparent;\n",
              "      border-bottom-color: var(--fill-color);\n",
              "    }\n",
              "  }\n",
              "</style>\n",
              "\n",
              "  <script>\n",
              "    async function quickchart(key) {\n",
              "      const quickchartButtonEl =\n",
              "        document.querySelector('#' + key + ' button');\n",
              "      quickchartButtonEl.disabled = true;  // To prevent multiple clicks.\n",
              "      quickchartButtonEl.classList.add('colab-df-spinner');\n",
              "      try {\n",
              "        const charts = await google.colab.kernel.invokeFunction(\n",
              "            'suggestCharts', [key], {});\n",
              "      } catch (error) {\n",
              "        console.error('Error during call to suggestCharts:', error);\n",
              "      }\n",
              "      quickchartButtonEl.classList.remove('colab-df-spinner');\n",
              "      quickchartButtonEl.classList.add('colab-df-quickchart-complete');\n",
              "    }\n",
              "    (() => {\n",
              "      let quickchartButtonEl =\n",
              "        document.querySelector('#df-9c50665e-dbbb-4403-aead-4f9f84670711 button');\n",
              "      quickchartButtonEl.style.display =\n",
              "        google.colab.kernel.accessAllowed ? 'block' : 'none';\n",
              "    })();\n",
              "  </script>\n",
              "</div>\n",
              "    </div>\n",
              "  </div>\n"
            ]
          },
          "metadata": {},
          "execution_count": 73
        }
      ]
    },
    {
      "cell_type": "markdown",
      "source": [
        "Creamos dos datasets. Uno con las clases de todos los elementos y otro con todos los datos menos la clase."
      ],
      "metadata": {
        "id": "jiR7Xj_qkCe2"
      }
    },
    {
      "cell_type": "code",
      "source": [
        "#Dataframe solo con los datos de los atributos numericos\n",
        "df_num_original_data = df_num_original.drop(columns='y')\n",
        "#Dataframe con las clases de cada registro. 1 significa \"yes\", 0 significa \"no\"\n",
        "df_num_original_classes = df_num_original['y']\n",
        "\n",
        "print(df_num_original_data)\n",
        "print(df_num_original_classes)"
      ],
      "metadata": {
        "colab": {
          "base_uri": "https://localhost:8080/"
        },
        "id": "PrrUbTnKkeIQ",
        "outputId": "4b86d0ff-ede0-4fad-d626-d8d849f74662"
      },
      "execution_count": 74,
      "outputs": [
        {
          "output_type": "stream",
          "name": "stdout",
          "text": [
            "       age  education  default  balance  housing  loan  contact  day  month  \\\n",
            "0       58          3        0     2143        1     0        0    5      5   \n",
            "1       44          2        0       29        1     0        0    5      5   \n",
            "2       33          2        0        2        1     1        0    5      5   \n",
            "3       47          2        0     1506        1     0        0    5      5   \n",
            "4       33          2        0        1        0     0        0    5      5   \n",
            "...    ...        ...      ...      ...      ...   ...      ...  ...    ...   \n",
            "41085   23          3        0      113        0     0        0   17     11   \n",
            "41086   25          2        0      505        0     1        0   17     11   \n",
            "41087   51          3        0      825        0     0        0   17     11   \n",
            "41088   71          1        0     1729        0     0        0   17     11   \n",
            "41089   57          2        0      668        0     0        1   17     11   \n",
            "\n",
            "       campaign  ...  services  student  technician  unemployed  divorced  \\\n",
            "0             1  ...         0        0           0           0         0   \n",
            "1             1  ...         0        0           1           0         0   \n",
            "2             1  ...         0        0           0           0         0   \n",
            "3             1  ...         0        0           0           0         0   \n",
            "4             1  ...         0        0           0           0         0   \n",
            "...         ...  ...       ...      ...         ...         ...       ...   \n",
            "41085         1  ...         0        1           0           0         0   \n",
            "41086         2  ...         0        0           1           0         0   \n",
            "41087         3  ...         0        0           1           0         0   \n",
            "41088         2  ...         0        0           0           0         1   \n",
            "41089         4  ...         0        0           0           0         0   \n",
            "\n",
            "       married  single  failure  other  success  \n",
            "0            1       0        1      0        0  \n",
            "1            0       1        1      0        0  \n",
            "2            1       0        1      0        0  \n",
            "3            1       0        1      0        0  \n",
            "4            0       1        1      0        0  \n",
            "...        ...     ...      ...    ...      ...  \n",
            "41085        0       1        1      0        0  \n",
            "41086        0       1        1      0        0  \n",
            "41087        1       0        1      0        0  \n",
            "41088        0       0        1      0        0  \n",
            "41089        1       0        1      0        0  \n",
            "\n",
            "[41090 rows x 29 columns]\n",
            "0        0\n",
            "1        0\n",
            "2        0\n",
            "3        0\n",
            "4        0\n",
            "        ..\n",
            "41085    1\n",
            "41086    1\n",
            "41087    1\n",
            "41088    1\n",
            "41089    0\n",
            "Name: y, Length: 41090, dtype: int64\n"
          ]
        }
      ]
    },
    {
      "cell_type": "markdown",
      "source": [
        "Estandarizamos los datos de cada columna para que tengan media=0 y desviación estandar=1, esto para prevenir que los atributos con rangos de valores más grandes tengan más peso en la clasificación."
      ],
      "metadata": {
        "id": "I2XVSaGMlLig"
      }
    },
    {
      "cell_type": "code",
      "source": [
        "#Creamos el objeto escalador\n",
        "scaler = StandardScaler()\n",
        "#Ajustamos el escalador a los datos\n",
        "scaler.fit(df_num_original_data)\n",
        "#Escalamos los datos y creamos un nuevo dataframe con los datos standarizados\n",
        "df_num_standard_data = pd.DataFrame(data=scaler.transform(df_num_original_data), columns=df_num_original_data.columns)\n",
        "df_num_standard_data"
      ],
      "metadata": {
        "colab": {
          "base_uri": "https://localhost:8080/",
          "height": 444
        },
        "id": "qsPTHktBlCNy",
        "outputId": "067e429b-207a-4376-cb3f-92a8d5b78c4e"
      },
      "execution_count": 75,
      "outputs": [
        {
          "output_type": "execute_result",
          "data": {
            "text/plain": [
              "            age  education   default   balance   housing      loan   contact  \\\n",
              "0      1.716911   1.326505 -0.138101  0.613195  0.888307 -0.443316 -0.249447   \n",
              "1      0.332788  -0.212911 -0.138101 -0.603598  0.888307 -0.443316 -0.249447   \n",
              "2     -0.754738  -0.212911 -0.138101 -0.619139  0.888307  2.255728 -0.249447   \n",
              "3      0.629385  -0.212911 -0.138101  0.246545  0.888307 -0.443316 -0.249447   \n",
              "4     -0.754738  -0.212911 -0.138101 -0.619715 -1.125737 -0.443316 -0.249447   \n",
              "...         ...        ...       ...       ...       ...       ...       ...   \n",
              "41085 -1.743397   1.326505 -0.138101 -0.555249 -1.125737 -0.443316 -0.249447   \n",
              "41086 -1.545665  -0.212911 -0.138101 -0.329618 -1.125737  2.255728 -0.249447   \n",
              "41087  1.024849   1.326505 -0.138101 -0.145430 -1.125737 -0.443316 -0.249447   \n",
              "41088  3.002168  -1.752327 -0.138101  0.374901 -1.125737 -0.443316 -0.249447   \n",
              "41089  1.618045  -0.212911 -0.138101 -0.235798 -1.125737 -0.443316  4.008871   \n",
              "\n",
              "            day     month  campaign  ...  services   student  technician  \\\n",
              "0     -1.294860 -0.470331 -0.740412  ... -0.322638 -0.143318   -0.451074   \n",
              "1     -1.294860 -0.470331 -0.740412  ... -0.322638 -0.143318    2.216931   \n",
              "2     -1.294860 -0.470331 -0.740412  ... -0.322638 -0.143318   -0.451074   \n",
              "3     -1.294860 -0.470331 -0.740412  ... -0.322638 -0.143318   -0.451074   \n",
              "4     -1.294860 -0.470331 -0.740412  ... -0.322638 -0.143318   -0.451074   \n",
              "...         ...       ...       ...  ...       ...       ...         ...   \n",
              "41085  0.149867  2.039528 -0.740412  ... -0.322638  6.977507   -0.451074   \n",
              "41086  0.149867  2.039528 -0.234769  ... -0.322638 -0.143318    2.216931   \n",
              "41087  0.149867  2.039528  0.270874  ... -0.322638 -0.143318    2.216931   \n",
              "41088  0.149867  2.039528 -0.234769  ... -0.322638 -0.143318   -0.451074   \n",
              "41089  0.149867  2.039528  0.776517  ... -0.322638 -0.143318   -0.451074   \n",
              "\n",
              "       unemployed  divorced   married    single   failure     other   success  \n",
              "0       -0.173146 -0.360763  0.811290 -0.626351  0.246461 -0.174853 -0.168467  \n",
              "1       -0.173146 -0.360763 -1.232604  1.596550  0.246461 -0.174853 -0.168467  \n",
              "2       -0.173146 -0.360763  0.811290 -0.626351  0.246461 -0.174853 -0.168467  \n",
              "3       -0.173146 -0.360763  0.811290 -0.626351  0.246461 -0.174853 -0.168467  \n",
              "4       -0.173146 -0.360763 -1.232604  1.596550  0.246461 -0.174853 -0.168467  \n",
              "...           ...       ...       ...       ...       ...       ...       ...  \n",
              "41085   -0.173146 -0.360763 -1.232604  1.596550  0.246461 -0.174853 -0.168467  \n",
              "41086   -0.173146 -0.360763 -1.232604  1.596550  0.246461 -0.174853 -0.168467  \n",
              "41087   -0.173146 -0.360763  0.811290 -0.626351  0.246461 -0.174853 -0.168467  \n",
              "41088   -0.173146  2.771900 -1.232604 -0.626351  0.246461 -0.174853 -0.168467  \n",
              "41089   -0.173146 -0.360763  0.811290 -0.626351  0.246461 -0.174853 -0.168467  \n",
              "\n",
              "[41090 rows x 29 columns]"
            ],
            "text/html": [
              "\n",
              "  <div id=\"df-d5c201cc-f2cd-44b3-9ef6-b33c6b3dba0e\" class=\"colab-df-container\">\n",
              "    <div>\n",
              "<style scoped>\n",
              "    .dataframe tbody tr th:only-of-type {\n",
              "        vertical-align: middle;\n",
              "    }\n",
              "\n",
              "    .dataframe tbody tr th {\n",
              "        vertical-align: top;\n",
              "    }\n",
              "\n",
              "    .dataframe thead th {\n",
              "        text-align: right;\n",
              "    }\n",
              "</style>\n",
              "<table border=\"1\" class=\"dataframe\">\n",
              "  <thead>\n",
              "    <tr style=\"text-align: right;\">\n",
              "      <th></th>\n",
              "      <th>age</th>\n",
              "      <th>education</th>\n",
              "      <th>default</th>\n",
              "      <th>balance</th>\n",
              "      <th>housing</th>\n",
              "      <th>loan</th>\n",
              "      <th>contact</th>\n",
              "      <th>day</th>\n",
              "      <th>month</th>\n",
              "      <th>campaign</th>\n",
              "      <th>...</th>\n",
              "      <th>services</th>\n",
              "      <th>student</th>\n",
              "      <th>technician</th>\n",
              "      <th>unemployed</th>\n",
              "      <th>divorced</th>\n",
              "      <th>married</th>\n",
              "      <th>single</th>\n",
              "      <th>failure</th>\n",
              "      <th>other</th>\n",
              "      <th>success</th>\n",
              "    </tr>\n",
              "  </thead>\n",
              "  <tbody>\n",
              "    <tr>\n",
              "      <th>0</th>\n",
              "      <td>1.716911</td>\n",
              "      <td>1.326505</td>\n",
              "      <td>-0.138101</td>\n",
              "      <td>0.613195</td>\n",
              "      <td>0.888307</td>\n",
              "      <td>-0.443316</td>\n",
              "      <td>-0.249447</td>\n",
              "      <td>-1.294860</td>\n",
              "      <td>-0.470331</td>\n",
              "      <td>-0.740412</td>\n",
              "      <td>...</td>\n",
              "      <td>-0.322638</td>\n",
              "      <td>-0.143318</td>\n",
              "      <td>-0.451074</td>\n",
              "      <td>-0.173146</td>\n",
              "      <td>-0.360763</td>\n",
              "      <td>0.811290</td>\n",
              "      <td>-0.626351</td>\n",
              "      <td>0.246461</td>\n",
              "      <td>-0.174853</td>\n",
              "      <td>-0.168467</td>\n",
              "    </tr>\n",
              "    <tr>\n",
              "      <th>1</th>\n",
              "      <td>0.332788</td>\n",
              "      <td>-0.212911</td>\n",
              "      <td>-0.138101</td>\n",
              "      <td>-0.603598</td>\n",
              "      <td>0.888307</td>\n",
              "      <td>-0.443316</td>\n",
              "      <td>-0.249447</td>\n",
              "      <td>-1.294860</td>\n",
              "      <td>-0.470331</td>\n",
              "      <td>-0.740412</td>\n",
              "      <td>...</td>\n",
              "      <td>-0.322638</td>\n",
              "      <td>-0.143318</td>\n",
              "      <td>2.216931</td>\n",
              "      <td>-0.173146</td>\n",
              "      <td>-0.360763</td>\n",
              "      <td>-1.232604</td>\n",
              "      <td>1.596550</td>\n",
              "      <td>0.246461</td>\n",
              "      <td>-0.174853</td>\n",
              "      <td>-0.168467</td>\n",
              "    </tr>\n",
              "    <tr>\n",
              "      <th>2</th>\n",
              "      <td>-0.754738</td>\n",
              "      <td>-0.212911</td>\n",
              "      <td>-0.138101</td>\n",
              "      <td>-0.619139</td>\n",
              "      <td>0.888307</td>\n",
              "      <td>2.255728</td>\n",
              "      <td>-0.249447</td>\n",
              "      <td>-1.294860</td>\n",
              "      <td>-0.470331</td>\n",
              "      <td>-0.740412</td>\n",
              "      <td>...</td>\n",
              "      <td>-0.322638</td>\n",
              "      <td>-0.143318</td>\n",
              "      <td>-0.451074</td>\n",
              "      <td>-0.173146</td>\n",
              "      <td>-0.360763</td>\n",
              "      <td>0.811290</td>\n",
              "      <td>-0.626351</td>\n",
              "      <td>0.246461</td>\n",
              "      <td>-0.174853</td>\n",
              "      <td>-0.168467</td>\n",
              "    </tr>\n",
              "    <tr>\n",
              "      <th>3</th>\n",
              "      <td>0.629385</td>\n",
              "      <td>-0.212911</td>\n",
              "      <td>-0.138101</td>\n",
              "      <td>0.246545</td>\n",
              "      <td>0.888307</td>\n",
              "      <td>-0.443316</td>\n",
              "      <td>-0.249447</td>\n",
              "      <td>-1.294860</td>\n",
              "      <td>-0.470331</td>\n",
              "      <td>-0.740412</td>\n",
              "      <td>...</td>\n",
              "      <td>-0.322638</td>\n",
              "      <td>-0.143318</td>\n",
              "      <td>-0.451074</td>\n",
              "      <td>-0.173146</td>\n",
              "      <td>-0.360763</td>\n",
              "      <td>0.811290</td>\n",
              "      <td>-0.626351</td>\n",
              "      <td>0.246461</td>\n",
              "      <td>-0.174853</td>\n",
              "      <td>-0.168467</td>\n",
              "    </tr>\n",
              "    <tr>\n",
              "      <th>4</th>\n",
              "      <td>-0.754738</td>\n",
              "      <td>-0.212911</td>\n",
              "      <td>-0.138101</td>\n",
              "      <td>-0.619715</td>\n",
              "      <td>-1.125737</td>\n",
              "      <td>-0.443316</td>\n",
              "      <td>-0.249447</td>\n",
              "      <td>-1.294860</td>\n",
              "      <td>-0.470331</td>\n",
              "      <td>-0.740412</td>\n",
              "      <td>...</td>\n",
              "      <td>-0.322638</td>\n",
              "      <td>-0.143318</td>\n",
              "      <td>-0.451074</td>\n",
              "      <td>-0.173146</td>\n",
              "      <td>-0.360763</td>\n",
              "      <td>-1.232604</td>\n",
              "      <td>1.596550</td>\n",
              "      <td>0.246461</td>\n",
              "      <td>-0.174853</td>\n",
              "      <td>-0.168467</td>\n",
              "    </tr>\n",
              "    <tr>\n",
              "      <th>...</th>\n",
              "      <td>...</td>\n",
              "      <td>...</td>\n",
              "      <td>...</td>\n",
              "      <td>...</td>\n",
              "      <td>...</td>\n",
              "      <td>...</td>\n",
              "      <td>...</td>\n",
              "      <td>...</td>\n",
              "      <td>...</td>\n",
              "      <td>...</td>\n",
              "      <td>...</td>\n",
              "      <td>...</td>\n",
              "      <td>...</td>\n",
              "      <td>...</td>\n",
              "      <td>...</td>\n",
              "      <td>...</td>\n",
              "      <td>...</td>\n",
              "      <td>...</td>\n",
              "      <td>...</td>\n",
              "      <td>...</td>\n",
              "      <td>...</td>\n",
              "    </tr>\n",
              "    <tr>\n",
              "      <th>41085</th>\n",
              "      <td>-1.743397</td>\n",
              "      <td>1.326505</td>\n",
              "      <td>-0.138101</td>\n",
              "      <td>-0.555249</td>\n",
              "      <td>-1.125737</td>\n",
              "      <td>-0.443316</td>\n",
              "      <td>-0.249447</td>\n",
              "      <td>0.149867</td>\n",
              "      <td>2.039528</td>\n",
              "      <td>-0.740412</td>\n",
              "      <td>...</td>\n",
              "      <td>-0.322638</td>\n",
              "      <td>6.977507</td>\n",
              "      <td>-0.451074</td>\n",
              "      <td>-0.173146</td>\n",
              "      <td>-0.360763</td>\n",
              "      <td>-1.232604</td>\n",
              "      <td>1.596550</td>\n",
              "      <td>0.246461</td>\n",
              "      <td>-0.174853</td>\n",
              "      <td>-0.168467</td>\n",
              "    </tr>\n",
              "    <tr>\n",
              "      <th>41086</th>\n",
              "      <td>-1.545665</td>\n",
              "      <td>-0.212911</td>\n",
              "      <td>-0.138101</td>\n",
              "      <td>-0.329618</td>\n",
              "      <td>-1.125737</td>\n",
              "      <td>2.255728</td>\n",
              "      <td>-0.249447</td>\n",
              "      <td>0.149867</td>\n",
              "      <td>2.039528</td>\n",
              "      <td>-0.234769</td>\n",
              "      <td>...</td>\n",
              "      <td>-0.322638</td>\n",
              "      <td>-0.143318</td>\n",
              "      <td>2.216931</td>\n",
              "      <td>-0.173146</td>\n",
              "      <td>-0.360763</td>\n",
              "      <td>-1.232604</td>\n",
              "      <td>1.596550</td>\n",
              "      <td>0.246461</td>\n",
              "      <td>-0.174853</td>\n",
              "      <td>-0.168467</td>\n",
              "    </tr>\n",
              "    <tr>\n",
              "      <th>41087</th>\n",
              "      <td>1.024849</td>\n",
              "      <td>1.326505</td>\n",
              "      <td>-0.138101</td>\n",
              "      <td>-0.145430</td>\n",
              "      <td>-1.125737</td>\n",
              "      <td>-0.443316</td>\n",
              "      <td>-0.249447</td>\n",
              "      <td>0.149867</td>\n",
              "      <td>2.039528</td>\n",
              "      <td>0.270874</td>\n",
              "      <td>...</td>\n",
              "      <td>-0.322638</td>\n",
              "      <td>-0.143318</td>\n",
              "      <td>2.216931</td>\n",
              "      <td>-0.173146</td>\n",
              "      <td>-0.360763</td>\n",
              "      <td>0.811290</td>\n",
              "      <td>-0.626351</td>\n",
              "      <td>0.246461</td>\n",
              "      <td>-0.174853</td>\n",
              "      <td>-0.168467</td>\n",
              "    </tr>\n",
              "    <tr>\n",
              "      <th>41088</th>\n",
              "      <td>3.002168</td>\n",
              "      <td>-1.752327</td>\n",
              "      <td>-0.138101</td>\n",
              "      <td>0.374901</td>\n",
              "      <td>-1.125737</td>\n",
              "      <td>-0.443316</td>\n",
              "      <td>-0.249447</td>\n",
              "      <td>0.149867</td>\n",
              "      <td>2.039528</td>\n",
              "      <td>-0.234769</td>\n",
              "      <td>...</td>\n",
              "      <td>-0.322638</td>\n",
              "      <td>-0.143318</td>\n",
              "      <td>-0.451074</td>\n",
              "      <td>-0.173146</td>\n",
              "      <td>2.771900</td>\n",
              "      <td>-1.232604</td>\n",
              "      <td>-0.626351</td>\n",
              "      <td>0.246461</td>\n",
              "      <td>-0.174853</td>\n",
              "      <td>-0.168467</td>\n",
              "    </tr>\n",
              "    <tr>\n",
              "      <th>41089</th>\n",
              "      <td>1.618045</td>\n",
              "      <td>-0.212911</td>\n",
              "      <td>-0.138101</td>\n",
              "      <td>-0.235798</td>\n",
              "      <td>-1.125737</td>\n",
              "      <td>-0.443316</td>\n",
              "      <td>4.008871</td>\n",
              "      <td>0.149867</td>\n",
              "      <td>2.039528</td>\n",
              "      <td>0.776517</td>\n",
              "      <td>...</td>\n",
              "      <td>-0.322638</td>\n",
              "      <td>-0.143318</td>\n",
              "      <td>-0.451074</td>\n",
              "      <td>-0.173146</td>\n",
              "      <td>-0.360763</td>\n",
              "      <td>0.811290</td>\n",
              "      <td>-0.626351</td>\n",
              "      <td>0.246461</td>\n",
              "      <td>-0.174853</td>\n",
              "      <td>-0.168467</td>\n",
              "    </tr>\n",
              "  </tbody>\n",
              "</table>\n",
              "<p>41090 rows × 29 columns</p>\n",
              "</div>\n",
              "    <div class=\"colab-df-buttons\">\n",
              "\n",
              "  <div class=\"colab-df-container\">\n",
              "    <button class=\"colab-df-convert\" onclick=\"convertToInteractive('df-d5c201cc-f2cd-44b3-9ef6-b33c6b3dba0e')\"\n",
              "            title=\"Convert this dataframe to an interactive table.\"\n",
              "            style=\"display:none;\">\n",
              "\n",
              "  <svg xmlns=\"http://www.w3.org/2000/svg\" height=\"24px\" viewBox=\"0 -960 960 960\">\n",
              "    <path d=\"M120-120v-720h720v720H120Zm60-500h600v-160H180v160Zm220 220h160v-160H400v160Zm0 220h160v-160H400v160ZM180-400h160v-160H180v160Zm440 0h160v-160H620v160ZM180-180h160v-160H180v160Zm440 0h160v-160H620v160Z\"/>\n",
              "  </svg>\n",
              "    </button>\n",
              "\n",
              "  <style>\n",
              "    .colab-df-container {\n",
              "      display:flex;\n",
              "      gap: 12px;\n",
              "    }\n",
              "\n",
              "    .colab-df-convert {\n",
              "      background-color: #E8F0FE;\n",
              "      border: none;\n",
              "      border-radius: 50%;\n",
              "      cursor: pointer;\n",
              "      display: none;\n",
              "      fill: #1967D2;\n",
              "      height: 32px;\n",
              "      padding: 0 0 0 0;\n",
              "      width: 32px;\n",
              "    }\n",
              "\n",
              "    .colab-df-convert:hover {\n",
              "      background-color: #E2EBFA;\n",
              "      box-shadow: 0px 1px 2px rgba(60, 64, 67, 0.3), 0px 1px 3px 1px rgba(60, 64, 67, 0.15);\n",
              "      fill: #174EA6;\n",
              "    }\n",
              "\n",
              "    .colab-df-buttons div {\n",
              "      margin-bottom: 4px;\n",
              "    }\n",
              "\n",
              "    [theme=dark] .colab-df-convert {\n",
              "      background-color: #3B4455;\n",
              "      fill: #D2E3FC;\n",
              "    }\n",
              "\n",
              "    [theme=dark] .colab-df-convert:hover {\n",
              "      background-color: #434B5C;\n",
              "      box-shadow: 0px 1px 3px 1px rgba(0, 0, 0, 0.15);\n",
              "      filter: drop-shadow(0px 1px 2px rgba(0, 0, 0, 0.3));\n",
              "      fill: #FFFFFF;\n",
              "    }\n",
              "  </style>\n",
              "\n",
              "    <script>\n",
              "      const buttonEl =\n",
              "        document.querySelector('#df-d5c201cc-f2cd-44b3-9ef6-b33c6b3dba0e button.colab-df-convert');\n",
              "      buttonEl.style.display =\n",
              "        google.colab.kernel.accessAllowed ? 'block' : 'none';\n",
              "\n",
              "      async function convertToInteractive(key) {\n",
              "        const element = document.querySelector('#df-d5c201cc-f2cd-44b3-9ef6-b33c6b3dba0e');\n",
              "        const dataTable =\n",
              "          await google.colab.kernel.invokeFunction('convertToInteractive',\n",
              "                                                    [key], {});\n",
              "        if (!dataTable) return;\n",
              "\n",
              "        const docLinkHtml = 'Like what you see? Visit the ' +\n",
              "          '<a target=\"_blank\" href=https://colab.research.google.com/notebooks/data_table.ipynb>data table notebook</a>'\n",
              "          + ' to learn more about interactive tables.';\n",
              "        element.innerHTML = '';\n",
              "        dataTable['output_type'] = 'display_data';\n",
              "        await google.colab.output.renderOutput(dataTable, element);\n",
              "        const docLink = document.createElement('div');\n",
              "        docLink.innerHTML = docLinkHtml;\n",
              "        element.appendChild(docLink);\n",
              "      }\n",
              "    </script>\n",
              "  </div>\n",
              "\n",
              "\n",
              "<div id=\"df-c15d0130-6d90-4a90-bfec-4b5c0fe8257f\">\n",
              "  <button class=\"colab-df-quickchart\" onclick=\"quickchart('df-c15d0130-6d90-4a90-bfec-4b5c0fe8257f')\"\n",
              "            title=\"Suggest charts\"\n",
              "            style=\"display:none;\">\n",
              "\n",
              "<svg xmlns=\"http://www.w3.org/2000/svg\" height=\"24px\"viewBox=\"0 0 24 24\"\n",
              "     width=\"24px\">\n",
              "    <g>\n",
              "        <path d=\"M19 3H5c-1.1 0-2 .9-2 2v14c0 1.1.9 2 2 2h14c1.1 0 2-.9 2-2V5c0-1.1-.9-2-2-2zM9 17H7v-7h2v7zm4 0h-2V7h2v10zm4 0h-2v-4h2v4z\"/>\n",
              "    </g>\n",
              "</svg>\n",
              "  </button>\n",
              "\n",
              "<style>\n",
              "  .colab-df-quickchart {\n",
              "      --bg-color: #E8F0FE;\n",
              "      --fill-color: #1967D2;\n",
              "      --hover-bg-color: #E2EBFA;\n",
              "      --hover-fill-color: #174EA6;\n",
              "      --disabled-fill-color: #AAA;\n",
              "      --disabled-bg-color: #DDD;\n",
              "  }\n",
              "\n",
              "  [theme=dark] .colab-df-quickchart {\n",
              "      --bg-color: #3B4455;\n",
              "      --fill-color: #D2E3FC;\n",
              "      --hover-bg-color: #434B5C;\n",
              "      --hover-fill-color: #FFFFFF;\n",
              "      --disabled-bg-color: #3B4455;\n",
              "      --disabled-fill-color: #666;\n",
              "  }\n",
              "\n",
              "  .colab-df-quickchart {\n",
              "    background-color: var(--bg-color);\n",
              "    border: none;\n",
              "    border-radius: 50%;\n",
              "    cursor: pointer;\n",
              "    display: none;\n",
              "    fill: var(--fill-color);\n",
              "    height: 32px;\n",
              "    padding: 0;\n",
              "    width: 32px;\n",
              "  }\n",
              "\n",
              "  .colab-df-quickchart:hover {\n",
              "    background-color: var(--hover-bg-color);\n",
              "    box-shadow: 0 1px 2px rgba(60, 64, 67, 0.3), 0 1px 3px 1px rgba(60, 64, 67, 0.15);\n",
              "    fill: var(--button-hover-fill-color);\n",
              "  }\n",
              "\n",
              "  .colab-df-quickchart-complete:disabled,\n",
              "  .colab-df-quickchart-complete:disabled:hover {\n",
              "    background-color: var(--disabled-bg-color);\n",
              "    fill: var(--disabled-fill-color);\n",
              "    box-shadow: none;\n",
              "  }\n",
              "\n",
              "  .colab-df-spinner {\n",
              "    border: 2px solid var(--fill-color);\n",
              "    border-color: transparent;\n",
              "    border-bottom-color: var(--fill-color);\n",
              "    animation:\n",
              "      spin 1s steps(1) infinite;\n",
              "  }\n",
              "\n",
              "  @keyframes spin {\n",
              "    0% {\n",
              "      border-color: transparent;\n",
              "      border-bottom-color: var(--fill-color);\n",
              "      border-left-color: var(--fill-color);\n",
              "    }\n",
              "    20% {\n",
              "      border-color: transparent;\n",
              "      border-left-color: var(--fill-color);\n",
              "      border-top-color: var(--fill-color);\n",
              "    }\n",
              "    30% {\n",
              "      border-color: transparent;\n",
              "      border-left-color: var(--fill-color);\n",
              "      border-top-color: var(--fill-color);\n",
              "      border-right-color: var(--fill-color);\n",
              "    }\n",
              "    40% {\n",
              "      border-color: transparent;\n",
              "      border-right-color: var(--fill-color);\n",
              "      border-top-color: var(--fill-color);\n",
              "    }\n",
              "    60% {\n",
              "      border-color: transparent;\n",
              "      border-right-color: var(--fill-color);\n",
              "    }\n",
              "    80% {\n",
              "      border-color: transparent;\n",
              "      border-right-color: var(--fill-color);\n",
              "      border-bottom-color: var(--fill-color);\n",
              "    }\n",
              "    90% {\n",
              "      border-color: transparent;\n",
              "      border-bottom-color: var(--fill-color);\n",
              "    }\n",
              "  }\n",
              "</style>\n",
              "\n",
              "  <script>\n",
              "    async function quickchart(key) {\n",
              "      const quickchartButtonEl =\n",
              "        document.querySelector('#' + key + ' button');\n",
              "      quickchartButtonEl.disabled = true;  // To prevent multiple clicks.\n",
              "      quickchartButtonEl.classList.add('colab-df-spinner');\n",
              "      try {\n",
              "        const charts = await google.colab.kernel.invokeFunction(\n",
              "            'suggestCharts', [key], {});\n",
              "      } catch (error) {\n",
              "        console.error('Error during call to suggestCharts:', error);\n",
              "      }\n",
              "      quickchartButtonEl.classList.remove('colab-df-spinner');\n",
              "      quickchartButtonEl.classList.add('colab-df-quickchart-complete');\n",
              "    }\n",
              "    (() => {\n",
              "      let quickchartButtonEl =\n",
              "        document.querySelector('#df-c15d0130-6d90-4a90-bfec-4b5c0fe8257f button');\n",
              "      quickchartButtonEl.style.display =\n",
              "        google.colab.kernel.accessAllowed ? 'block' : 'none';\n",
              "    })();\n",
              "  </script>\n",
              "</div>\n",
              "    </div>\n",
              "  </div>\n"
            ]
          },
          "metadata": {},
          "execution_count": 75
        }
      ]
    },
    {
      "cell_type": "markdown",
      "source": [
        "Se hace un muestreo estratificado para obtener un conjunto de datos de entrenamiento con un total del 70% de los datos y otro conjunto de datos de prueba con un total del 30% de los datos."
      ],
      "metadata": {
        "id": "R4V1F96MlvtQ"
      }
    },
    {
      "cell_type": "code",
      "source": [
        "X_train, X_test, y_train, y_test = train_test_split(df_num_standard_data.values, df_num_original_classes.values,\n",
        "                                                    test_size=0.3,\n",
        "                                                    random_state=0)"
      ],
      "metadata": {
        "id": "pbpCeR4Lluxq"
      },
      "execution_count": 76,
      "outputs": []
    },
    {
      "cell_type": "markdown",
      "source": [
        "#1. Clasificación con el algoritmo K-NearestNeighbors sobre todo el dataset con distancia Euclideana."
      ],
      "metadata": {
        "id": "1qxiy31wjsT3"
      }
    },
    {
      "cell_type": "markdown",
      "source": [
        "A continuación vamos a ejecutar el algoritmo de K-NearestNeighbors con diferentes valores de K evaluando el error que tienen cada uno para ver cual es el valor optimo de K para el algoritmo KNearestNeighbors."
      ],
      "metadata": {
        "id": "ztbNdht5lU4E"
      }
    },
    {
      "cell_type": "code",
      "source": [
        "#Se evaluara el error con K de 2 a 33\n",
        "k_values = list(range(2,34))\n",
        "\n",
        "#Listas para ir almacenando el error de entrenamiento y generalización\n",
        "train_error = []\n",
        "test_error = []\n",
        "\n",
        "#Bucle de ejecución de todas las posibilidades de K\n",
        "for k in k_values:\n",
        "    knn = KNeighborsClassifier(n_neighbors=k)\n",
        "    knn.fit(X_train, y_train)\n",
        "    train_error.append(1 - knn.score(X_train, y_train))\n",
        "    test_error.append(1 - knn.score(X_test, y_test))\n",
        "\n",
        "#Lineas para visualizar la curva de aprendizaje\n",
        "pl.figure(figsize = (10, 6))\n",
        "pl.plot(k_values, train_error, label=\"Entrenamiento\")\n",
        "pl.plot(k_values, test_error, label=\"Prueba\")\n",
        "pl.xticks(k_values)\n",
        "pl.xlabel(\"k-vecinos\")\n",
        "pl.ylabel(\"Error\")\n",
        "plt.legend()"
      ],
      "metadata": {
        "colab": {
          "base_uri": "https://localhost:8080/",
          "height": 559
        },
        "id": "sbmkHgjslE2H",
        "outputId": "c951bbcb-96e5-4113-b6aa-2cd1edf72c8e"
      },
      "execution_count": 77,
      "outputs": [
        {
          "output_type": "execute_result",
          "data": {
            "text/plain": [
              "<matplotlib.legend.Legend at 0x7c7b60669de0>"
            ]
          },
          "metadata": {},
          "execution_count": 77
        },
        {
          "output_type": "display_data",
          "data": {
            "text/plain": [
              "<Figure size 1000x600 with 1 Axes>"
            ],
            "image/png": "[encoded data removed]"
          },
          "metadata": {}
        }
      ]
    },
    {
      "cell_type": "markdown",
      "source": [
        "A partir de la curva de aprendizaje se observa que el mejor valor para K corresponde a 31 y vemos que el error tiende a concentrarse en un valor cercano a 9.25%\n",
        "\n",
        "A continuación crearemos un modelo de clasificación con K=31 y evaluaremos su rendimiento con diferentes metricas."
      ],
      "metadata": {
        "id": "ZtapGXCwsQzN"
      }
    },
    {
      "cell_type": "code",
      "source": [
        "#Creación del modelo\n",
        "knn_31 = KNeighborsClassifier(n_neighbors=31)\n",
        "knn_31.fit(X_train, y_train)\n",
        "\n",
        "#Se realizan las prediciones sobre le conjunto de datos de prueba\n",
        "y_pred_knn_31 = knn_31.predict(X_test)\n",
        "\n",
        "#Se calcula la matriz de confusión sobre los resultados del modelo y a partir de ello calculamos varias matricas\n",
        "conf_mat_knn_31 = confusion_matrix(y_test, y_pred_knn_31)\n",
        "\n",
        "accuracy_knn_31 = (conf_mat_knn_31[0,0] + conf_mat_knn_31[1,1])/len(y_pred_knn_31)\n",
        "precision_knn_31 = (conf_mat_knn_31[1,1]) / (conf_mat_knn_31[1,1] + conf_mat_knn_31[0,1])\n",
        "recall_knn_31 = (conf_mat_knn_31[1,1]) / (conf_mat_knn_31[1,1] + conf_mat_knn_31[1,0])\n",
        "f1_score_knn_31 = (2*precision_knn_31*recall_knn_31)/(precision_knn_31+recall_knn_31)\n",
        "\n",
        "#Imprimimos la matriz de confusion y los resultados de las medidas:\n",
        "print(\"Matriz de confusión 31-NearestNeighbors sobre un dataset desbalanceado:\")\n",
        "print(\"--------------------------------------------------\")\n",
        "disp = ConfusionMatrixDisplay(confusion_matrix=conf_mat_knn_31, display_labels=[\"No\",\"Yes\"])\n",
        "disp.plot()\n",
        "plt.show()\n",
        "print()\n",
        "\n",
        "print(\"Medidas de validación 19-NearestNeighbors\")\n",
        "print(\"--------------------------------------------------\")\n",
        "print(f\"Accuracy = {accuracy_knn_31}\")\n",
        "print(f\"Precision = {precision_knn_31}\")\n",
        "print(f\"Recall = {recall_knn_31}\")\n",
        "print(f\"F1 score = {f1_score_knn_31}\")"
      ],
      "metadata": {
        "colab": {
          "base_uri": "https://localhost:8080/",
          "height": 605
        },
        "id": "6u3zxysQsk8p",
        "outputId": "d9b15998-84d5-490e-fbe5-3220c099b888"
      },
      "execution_count": 78,
      "outputs": [
        {
          "output_type": "stream",
          "name": "stdout",
          "text": [
            "Matriz de confusión 31-NearestNeighbors sobre un dataset desbalanceado:\n",
            "--------------------------------------------------\n"
          ]
        },
        {
          "output_type": "display_data",
          "data": {
            "text/plain": [
              "<Figure size 640x480 with 2 Axes>"
            ],
            "image/png": "[encoded data removed]"
          },
          "metadata": {}
        },
        {
          "output_type": "stream",
          "name": "stdout",
          "text": [
            "\n",
            "Medidas de validación 19-NearestNeighbors\n",
            "--------------------------------------------------\n",
            "Accuracy = 0.9086557962196804\n",
            "Precision = 0.6560509554140127\n",
            "Recall = 0.16830065359477125\n",
            "F1 score = 0.2678803641092328\n"
          ]
        }
      ]
    },
    {
      "cell_type": "markdown",
      "source": [
        "Se observa que a pesar de que el clasificador obtiene un valor muy alto de accuracy (91%), en realidad este valor lo obtiene porque clasifica todos los individuos en la clase negativa, la cual es la clase mayoritaria del conjunto de datos. Por otra parte, en las otras medidas se observa que el clasificador tiene un rendimiento muy pobre para encontrar los individuos que realmente pertenecen a la clase positiva.\n",
        "\n",
        "\n",
        "Este es un resultado que era esperado, debido a que el dataset es desbalanceado (Aproximadamente el 90% de las personas no aceptaron el deposito a plazo y el 10% si lo aceptaron). Debido a que hay muchas más personas de la clase negativa, usualmente se encontrarán muchos más vecinos de esa clase y tendera a clasificar todos los individuos como \"no\"."
      ],
      "metadata": {
        "id": "3oFDaok_wLaa"
      }
    },
    {
      "cell_type": "markdown",
      "source": [
        "Finalmente, por curiosidad probamos ejecutar el modelo obtenido sobre todo el conjunto de datos de manera que podamos observar su rendimiento."
      ],
      "metadata": {
        "id": "OWPj31FEuQTS"
      }
    },
    {
      "cell_type": "code",
      "source": [
        "#Se realizan las prediciones sobre le conjunto de datos de prueba\n",
        "y_pred_knn_31 = knn_31.predict(df_num_standard_data.values)\n",
        "\n",
        "#Se calcula la matriz de confusión sobre los resultados del modelo y a partir de ello calculamos varias matricas\n",
        "conf_mat_knn_31 = confusion_matrix(df_num_original_classes.values, y_pred_knn_31)\n",
        "\n",
        "accuracy_knn_31 = (conf_mat_knn_31[0,0] + conf_mat_knn_31[1,1])/len(y_pred_knn_31)\n",
        "precision_knn_31 = (conf_mat_knn_31[1,1]) / (conf_mat_knn_31[1,1] + conf_mat_knn_31[0,1])\n",
        "recall_knn_31 = (conf_mat_knn_31[1,1]) / (conf_mat_knn_31[1,1] + conf_mat_knn_31[1,0])\n",
        "f1_score_knn_31 = (2*precision_knn_31*recall_knn_31)/(precision_knn_31+recall_knn_31)\n",
        "\n",
        "#Imprimimos la matriz de confusion y los resultados de las medidas:\n",
        "print(\"Matriz de confusión 31-NearestNeighbors entrenado con desbalance sobre todos los datos del conjunto:\")\n",
        "print(\"--------------------------------------------------\")\n",
        "disp = ConfusionMatrixDisplay(confusion_matrix=conf_mat_knn_31, display_labels=[\"No\",\"Yes\"])\n",
        "disp.plot()\n",
        "plt.show()\n",
        "print()\n",
        "\n",
        "print(\"Medidas de validación 31-NearestNeighbors entrenado con desbalance sobre todos los datos del conjunto\")\n",
        "print(\"--------------------------------------------------\")\n",
        "print(f\"Accuracy = {accuracy_knn_31}\")\n",
        "print(f\"Precision = {precision_knn_31}\")\n",
        "print(f\"Recall = {recall_knn_31}\")\n",
        "print(f\"F1 score = {f1_score_knn_31}\")"
      ],
      "metadata": {
        "colab": {
          "base_uri": "https://localhost:8080/",
          "height": 605
        },
        "id": "O--Iy0Y5txdS",
        "outputId": "2967b6a7-989a-4a28-e4f4-536a8e9a654c"
      },
      "execution_count": 79,
      "outputs": [
        {
          "output_type": "stream",
          "name": "stdout",
          "text": [
            "Matriz de confusión 31-NearestNeighbors entrenado con desbalance sobre todos los datos del conjunto:\n",
            "--------------------------------------------------\n"
          ]
        },
        {
          "output_type": "display_data",
          "data": {
            "text/plain": [
              "<Figure size 640x480 with 2 Axes>"
            ],
            "image/png": "[encoded data removed]"
          },
          "metadata": {}
        },
        {
          "output_type": "stream",
          "name": "stdout",
          "text": [
            "\n",
            "Medidas de validación 31-NearestNeighbors entrenado con desbalance sobre todos los datos del conjunto\n",
            "--------------------------------------------------\n",
            "Accuracy = 0.9086882453151618\n",
            "Precision = 0.665719696969697\n",
            "Recall = 0.17137981472452463\n",
            "F1 score = 0.2725862737495153\n"
          ]
        }
      ]
    },
    {
      "cell_type": "markdown",
      "source": [
        "Sobre todo el conjunto de datos se ve que tiene un rendimiento bajo, puesto que no logra identificar los individuos de la clase positiva y tiende a clasificar a todos los individuos en la clase negativa."
      ],
      "metadata": {
        "id": "mft1yiyXuXox"
      }
    },
    {
      "cell_type": "markdown",
      "source": [
        "#2. Clasificación con Random Forest sobre todo el conjunto de datos"
      ],
      "metadata": {
        "id": "R5FZi-IF_uXp"
      }
    },
    {
      "cell_type": "markdown",
      "source": [
        "A continuación se va a ejecutar una busqueda para identificar los mejores parametros para este tipo de clasificador. Los parametros que se van a modificar son \"n_estimators\" el cual indica cuantos arboles construir para hacer el random forest y max_features, el cual indica el procentaje de atributos que se va a utilizar para constuir los arboles de decisión."
      ],
      "metadata": {
        "id": "Eg5x8T36CWc3"
      }
    },
    {
      "cell_type": "code",
      "source": [
        "param_grid = {'n_estimators':[5, 15, 25, 35, 45, 55], 'max_features': [0.1, 0.2, 0.3, 0.4, 0.5, 0.6, 0.7, 0.8, 0.9, 1.0]}\n",
        "clf = GridSearchCV(RandomForestClassifier(), param_grid=param_grid, verbose=2, n_jobs=-1, cv=5)\n",
        "clf.fit(X_train, y_train)"
      ],
      "metadata": {
        "colab": {
          "base_uri": "https://localhost:8080/",
          "height": 136
        },
        "id": "XWlHSydp_y7U",
        "outputId": "19705bc0-14dd-4668-a8ab-59fa75d08076"
      },
      "execution_count": 80,
      "outputs": [
        {
          "output_type": "stream",
          "name": "stdout",
          "text": [
            "Fitting 5 folds for each of 60 candidates, totalling 300 fits\n"
          ]
        },
        {
          "output_type": "execute_result",
          "data": {
            "text/plain": [
              "GridSearchCV(cv=5, estimator=RandomForestClassifier(), n_jobs=-1,\n",
              "             param_grid={'max_features': [0.1, 0.2, 0.3, 0.4, 0.5, 0.6, 0.7,\n",
              "                                          0.8, 0.9, 1.0],\n",
              "                         'n_estimators': [5, 15, 25, 35, 45, 55]},\n",
              "             verbose=2)"
            ],
            "text/html": [
              "<style>#sk-container-id-5 {color: black;background-color: white;}#sk-container-id-5 pre{padding: 0;}#sk-container-id-5 div.sk-toggleable {background-color: white;}#sk-container-id-5 label.sk-toggleable__label {cursor: pointer;display: block;width: 100%;margin-bottom: 0;padding: 0.3em;box-sizing: border-box;text-align: center;}#sk-container-id-5 label.sk-toggleable__label-arrow:before {content: \"▸\";float: left;margin-right: 0.25em;color: #696969;}#sk-container-id-5 label.sk-toggleable__label-arrow:hover:before {color: black;}#sk-container-id-5 div.sk-estimator:hover label.sk-toggleable__label-arrow:before {color: black;}#sk-container-id-5 div.sk-toggleable__content {max-height: 0;max-width: 0;overflow: hidden;text-align: left;background-color: #f0f8ff;}#sk-container-id-5 div.sk-toggleable__content pre {margin: 0.2em;color: black;border-radius: 0.25em;background-color: #f0f8ff;}#sk-container-id-5 input.sk-toggleable__control:checked~div.sk-toggleable__content {max-height: 200px;max-width: 100%;overflow: auto;}#sk-container-id-5 input.sk-toggleable__control:checked~label.sk-toggleable__label-arrow:before {content: \"▾\";}#sk-container-id-5 div.sk-estimator input.sk-toggleable__control:checked~label.sk-toggleable__label {background-color: #d4ebff;}#sk-container-id-5 div.sk-label input.sk-toggleable__control:checked~label.sk-toggleable__label {background-color: #d4ebff;}#sk-container-id-5 input.sk-hidden--visually {border: 0;clip: rect(1px 1px 1px 1px);clip: rect(1px, 1px, 1px, 1px);height: 1px;margin: -1px;overflow: hidden;padding: 0;position: absolute;width: 1px;}#sk-container-id-5 div.sk-estimator {font-family: monospace;background-color: #f0f8ff;border: 1px dotted black;border-radius: 0.25em;box-sizing: border-box;margin-bottom: 0.5em;}#sk-container-id-5 div.sk-estimator:hover {background-color: #d4ebff;}#sk-container-id-5 div.sk-parallel-item::after {content: \"\";width: 100%;border-bottom: 1px solid gray;flex-grow: 1;}#sk-container-id-5 div.sk-label:hover label.sk-toggleable__label {background-color: #d4ebff;}#sk-container-id-5 div.sk-serial::before {content: \"\";position: absolute;border-left: 1px solid gray;box-sizing: border-box;top: 0;bottom: 0;left: 50%;z-index: 0;}#sk-container-id-5 div.sk-serial {display: flex;flex-direction: column;align-items: center;background-color: white;padding-right: 0.2em;padding-left: 0.2em;position: relative;}#sk-container-id-5 div.sk-item {position: relative;z-index: 1;}#sk-container-id-5 div.sk-parallel {display: flex;align-items: stretch;justify-content: center;background-color: white;position: relative;}#sk-container-id-5 div.sk-item::before, #sk-container-id-5 div.sk-parallel-item::before {content: \"\";position: absolute;border-left: 1px solid gray;box-sizing: border-box;top: 0;bottom: 0;left: 50%;z-index: -1;}#sk-container-id-5 div.sk-parallel-item {display: flex;flex-direction: column;z-index: 1;position: relative;background-color: white;}#sk-container-id-5 div.sk-parallel-item:first-child::after {align-self: flex-end;width: 50%;}#sk-container-id-5 div.sk-parallel-item:last-child::after {align-self: flex-start;width: 50%;}#sk-container-id-5 div.sk-parallel-item:only-child::after {width: 0;}#sk-container-id-5 div.sk-dashed-wrapped {border: 1px dashed gray;margin: 0 0.4em 0.5em 0.4em;box-sizing: border-box;padding-bottom: 0.4em;background-color: white;}#sk-container-id-5 div.sk-label label {font-family: monospace;font-weight: bold;display: inline-block;line-height: 1.2em;}#sk-container-id-5 div.sk-label-container {text-align: center;}#sk-container-id-5 div.sk-container {/* jupyter's `normalize.less` sets `[hidden] { display: none; }` but bootstrap.min.css set `[hidden] { display: none !important; }` so we also need the `!important` here to be able to override the default hidden behavior on the sphinx rendered scikit-learn.org. See: https://github.com/scikit-learn/scikit-learn/issues/21755 */display: inline-block !important;position: relative;}#sk-container-id-5 div.sk-text-repr-fallback {display: none;}</style><div id=\"sk-container-id-5\" class=\"sk-top-container\"><div class=\"sk-text-repr-fallback\"><pre>GridSearchCV(cv=5, estimator=RandomForestClassifier(), n_jobs=-1,\n",
              "             param_grid={&#x27;max_features&#x27;: [0.1, 0.2, 0.3, 0.4, 0.5, 0.6, 0.7,\n",
              "                                          0.8, 0.9, 1.0],\n",
              "                         &#x27;n_estimators&#x27;: [5, 15, 25, 35, 45, 55]},\n",
              "             verbose=2)</pre><b>In a Jupyter environment, please rerun this cell to show the HTML representation or trust the notebook. <br />On GitHub, the HTML representation is unable to render, please try loading this page with nbviewer.org.</b></div><div class=\"sk-container\" hidden><div class=\"sk-item sk-dashed-wrapped\"><div class=\"sk-label-container\"><div class=\"sk-label sk-toggleable\"><input class=\"sk-toggleable__control sk-hidden--visually\" id=\"sk-estimator-id-13\" type=\"checkbox\" ><label for=\"sk-estimator-id-13\" class=\"sk-toggleable__label sk-toggleable__label-arrow\">GridSearchCV</label><div class=\"sk-toggleable__content\"><pre>GridSearchCV(cv=5, estimator=RandomForestClassifier(), n_jobs=-1,\n",
              "             param_grid={&#x27;max_features&#x27;: [0.1, 0.2, 0.3, 0.4, 0.5, 0.6, 0.7,\n",
              "                                          0.8, 0.9, 1.0],\n",
              "                         &#x27;n_estimators&#x27;: [5, 15, 25, 35, 45, 55]},\n",
              "             verbose=2)</pre></div></div></div><div class=\"sk-parallel\"><div class=\"sk-parallel-item\"><div class=\"sk-item\"><div class=\"sk-label-container\"><div class=\"sk-label sk-toggleable\"><input class=\"sk-toggleable__control sk-hidden--visually\" id=\"sk-estimator-id-14\" type=\"checkbox\" ><label for=\"sk-estimator-id-14\" class=\"sk-toggleable__label sk-toggleable__label-arrow\">estimator: RandomForestClassifier</label><div class=\"sk-toggleable__content\"><pre>RandomForestClassifier()</pre></div></div></div><div class=\"sk-serial\"><div class=\"sk-item\"><div class=\"sk-estimator sk-toggleable\"><input class=\"sk-toggleable__control sk-hidden--visually\" id=\"sk-estimator-id-15\" type=\"checkbox\" ><label for=\"sk-estimator-id-15\" class=\"sk-toggleable__label sk-toggleable__label-arrow\">RandomForestClassifier</label><div class=\"sk-toggleable__content\"><pre>RandomForestClassifier()</pre></div></div></div></div></div></div></div></div></div></div>"
            ]
          },
          "metadata": {},
          "execution_count": 80
        }
      ]
    },
    {
      "cell_type": "markdown",
      "source": [
        "A partir del proceso anterior obtenemos el valor de los mejores parametros para el random forest y el accuracy que se obtuvo con dichos parametros."
      ],
      "metadata": {
        "id": "AKDtAl8orQ6y"
      }
    },
    {
      "cell_type": "code",
      "source": [
        "print(\"Mejores parametros: \",clf.best_params_)\n",
        "print(\"Accuracy promedio obtenido con dicha configuracion: \",clf.best_score_)"
      ],
      "metadata": {
        "colab": {
          "base_uri": "https://localhost:8080/"
        },
        "id": "8wsJNNCmHLCG",
        "outputId": "55ba225a-c8c1-4e00-98eb-c8ba189e807d"
      },
      "execution_count": 81,
      "outputs": [
        {
          "output_type": "stream",
          "name": "stdout",
          "text": [
            "Mejores parametros:  {'max_features': 0.1, 'n_estimators': 55}\n",
            "Accuracy promedio obtenido con dicha configuracion:  0.9072766956926628\n"
          ]
        }
      ]
    },
    {
      "cell_type": "markdown",
      "source": [
        "A continuacion creamos un clasificador random forest con los parametros indicados anteriormente y calculamos algunas medidas para evaluar su rendimiento."
      ],
      "metadata": {
        "id": "GiakwnlZrtiH"
      }
    },
    {
      "cell_type": "code",
      "source": [
        "#Creación del modelo\n",
        "rf = RandomForestClassifier(n_estimators=55, max_features=0.1)\n",
        "rf.fit(X_train, y_train);\n",
        "\n",
        "#Se realizan las prediciones sobre le conjunto de datos de prueba\n",
        "y_pred_rf = rf.predict(X_test)\n",
        "\n",
        "#Se calcula la matriz de confusión sobre los resultados del modelo y a partir de ello calculamos varias matricas\n",
        "conf_mat_rf = confusion_matrix(y_test, y_pred_rf)\n",
        "\n",
        "accuracy_rf = (conf_mat_rf[0,0] + conf_mat_rf[1,1])/len(y_pred_rf)\n",
        "precision_rf = (conf_mat_rf[1,1]) / (conf_mat_rf[1,1] + conf_mat_rf[0,1])\n",
        "recall_rf = (conf_mat_rf[1,1]) / (conf_mat_rf[1,1] + conf_mat_rf[1,0])\n",
        "f1_score_rf = (2*precision_rf*recall_rf)/(precision_rf+recall_rf)\n",
        "\n",
        "#Imprimimos la matriz de confusion y los resultados de las medidas:\n",
        "print(\"Matriz de confusión Random Forest entrenado con desbalance:\")\n",
        "print(\"--------------------------------------------------\")\n",
        "disp = ConfusionMatrixDisplay(confusion_matrix=conf_mat_rf, display_labels=[\"No\",\"Yes\"])\n",
        "disp.plot()\n",
        "plt.show()\n",
        "print()\n",
        "\n",
        "print(\"Medidas de validación Random Forest entrenado con desbalance\")\n",
        "print(\"--------------------------------------------------\")\n",
        "print(f\"Accuracy = {accuracy_rf}\")\n",
        "print(f\"Precision = {precision_rf}\")\n",
        "print(f\"Recall = {recall_rf}\")\n",
        "print(f\"F1 score = {f1_score_rf}\")"
      ],
      "metadata": {
        "colab": {
          "base_uri": "https://localhost:8080/",
          "height": 605
        },
        "id": "jMTBuB-DHsvE",
        "outputId": "3ac22ca9-1292-434b-da4b-a78badaf33db"
      },
      "execution_count": 82,
      "outputs": [
        {
          "output_type": "stream",
          "name": "stdout",
          "text": [
            "Matriz de confusión Random Forest entrenado con desbalance:\n",
            "--------------------------------------------------\n"
          ]
        },
        {
          "output_type": "display_data",
          "data": {
            "text/plain": [
              "<Figure size 640x480 with 2 Axes>"
            ],
            "image/png": "[encoded data removed]"
          },
          "metadata": {}
        },
        {
          "output_type": "stream",
          "name": "stdout",
          "text": [
            "\n",
            "Medidas de validación Random Forest entrenado con desbalance\n",
            "--------------------------------------------------\n",
            "Accuracy = 0.9075200778778292\n",
            "Precision = 0.61731843575419\n",
            "Recall = 0.18055555555555555\n",
            "F1 score = 0.27939317319848295\n"
          ]
        }
      ]
    },
    {
      "cell_type": "markdown",
      "source": [
        "Otro aspecto interesante del modelo random forest es que nos permite ver cuales fueron los atributos más importantes a la hora de construir los arboles de decisión. En la siguiente celda se observa que los atributos más importantes son la columna 1, 4 y 8. Las cuales corresponden a Age, Balance y Month."
      ],
      "metadata": {
        "id": "GIBYrLCbs-fP"
      }
    },
    {
      "cell_type": "code",
      "source": [
        "print(rf.feature_importances_)"
      ],
      "metadata": {
        "colab": {
          "base_uri": "https://localhost:8080/"
        },
        "id": "fuXu7zdCtH5I",
        "outputId": "a12a254f-bbb4-471e-f267-4c22bb3d5ab4"
      },
      "execution_count": 83,
      "outputs": [
        {
          "output_type": "stream",
          "name": "stdout",
          "text": [
            "[0.17314544 0.02639194 0.00272715 0.19928196 0.02719487 0.01182041\n",
            " 0.00886348 0.15363614 0.11001457 0.05954516 0.04964343 0.02821846\n",
            " 0.00718181 0.00681203 0.00327483 0.00313378 0.00736628 0.00463587\n",
            " 0.00392384 0.00542695 0.00456907 0.00805358 0.00456173 0.00547374\n",
            " 0.00803467 0.00751448 0.02046245 0.00475214 0.04433975]\n"
          ]
        }
      ]
    },
    {
      "cell_type": "markdown",
      "source": [
        "Finalmente se observa que Random Forest tambien cae en el mismo problema que KNearestNeighbors, debido a que intenta clasificar casi todo en la clase mayoritaria, pero tiene grandes problemas a la hora de clasificar los elementos de la clase positiva, por lo cual obtiene un F1 score bajo.\n",
        "\n",
        "Finalmente, por curiosidad, se va a probar el rendimiento de este algoritmo sobre todo el conjunto de datos, para ver si logra predecir correctamente la clase de todos los elementos del conjunto."
      ],
      "metadata": {
        "id": "shcp6t0oXp6g"
      }
    },
    {
      "cell_type": "code",
      "source": [
        "#Se realizan las prediciones sobre todo el conjunto de datos\n",
        "y_pred_rf = rf.predict(df_num_standard_data.values)\n",
        "\n",
        "#Se calcula la matriz de confusión sobre los resultados del modelo y a partir de ello calculamos varias matricas\n",
        "conf_mat_rf = confusion_matrix(df_num_original_classes.values, y_pred_rf)\n",
        "\n",
        "accuracy_rf = (conf_mat_rf[0,0] + conf_mat_rf[1,1])/len(y_pred_rf)\n",
        "precision_rf = (conf_mat_rf[1,1]) / (conf_mat_rf[1,1] + conf_mat_rf[0,1])\n",
        "recall_rf = (conf_mat_rf[1,1]) / (conf_mat_rf[1,1] + conf_mat_rf[1,0])\n",
        "f1_score_rf = (2*precision_rf*recall_rf)/(precision_rf+recall_rf)\n",
        "\n",
        "#Imprimimos la matriz de confusion y los resultados de las medidas:\n",
        "print(\"Matriz de confusión Random Forest entrenado con desbalance sobre todo el conjunto de datos:\")\n",
        "print(\"--------------------------------------------------\")\n",
        "disp = ConfusionMatrixDisplay(confusion_matrix=conf_mat_rf, display_labels=[\"No\",\"Yes\"])\n",
        "disp.plot()\n",
        "plt.show()\n",
        "print()\n",
        "\n",
        "print(\"Medidas de validación Random Forest entrenado con desbalance sobre todo el conjunto de datos\")\n",
        "print(\"--------------------------------------------------\")\n",
        "print(f\"Accuracy = {accuracy_rf}\")\n",
        "print(f\"Precision = {precision_rf}\")\n",
        "print(f\"Recall = {recall_rf}\")\n",
        "print(f\"F1 score = {f1_score_rf}\")"
      ],
      "metadata": {
        "colab": {
          "base_uri": "https://localhost:8080/",
          "height": 605
        },
        "id": "6OKANYLmu0Ck",
        "outputId": "2579834b-8704-4c7c-ffe9-d6a07d371f2c"
      },
      "execution_count": 84,
      "outputs": [
        {
          "output_type": "stream",
          "name": "stdout",
          "text": [
            "Matriz de confusión Random Forest entrenado con desbalance sobre todo el conjunto de datos:\n",
            "--------------------------------------------------\n"
          ]
        },
        {
          "output_type": "display_data",
          "data": {
            "text/plain": [
              "<Figure size 640x480 with 2 Axes>"
            ],
            "image/png": "[encoded data removed]"
          },
          "metadata": {}
        },
        {
          "output_type": "stream",
          "name": "stdout",
          "text": [
            "\n",
            "Medidas de validación Random Forest entrenado con desbalance sobre todo el conjunto de datos\n",
            "--------------------------------------------------\n",
            "Accuracy = 0.9719153078607934\n",
            "Precision = 0.957196029776675\n",
            "Recall = 0.7523159434422233\n",
            "F1 score = 0.8424788424788424\n"
          ]
        }
      ]
    },
    {
      "cell_type": "markdown",
      "source": [
        "El resultado es bastante sorprendente, pueso que logra clasificar muy bien en general ambas clases al aplicar el modelo sobre todo el conjunto de datos. En cambio cuando lo hizo con sus datos de prueba tuvo un resultado no tan favorable. Esto puede deberse a que aprendio muy bien los datos de entrenamiento, los cuales corresponden al 70% de los datos del conjunto de esta ultima prueba."
      ],
      "metadata": {
        "id": "TloiFwA9vrje"
      }
    },
    {
      "cell_type": "markdown",
      "source": [
        "#Algoritmos KNearestNeighbors con un dataset balanceado"
      ],
      "metadata": {
        "id": "gdibuxtjXo4F"
      }
    },
    {
      "cell_type": "markdown",
      "source": [
        "Vamos a generar un dataset balanceado con 4102 personas de la clase yes y 4102 personas de la clase no. Esto para ver si se obtiene un mejor rendimiento en los algoritmos."
      ],
      "metadata": {
        "id": "frSSb7N-bUaH"
      }
    },
    {
      "cell_type": "code",
      "source": [
        "#Obtenemos las filas de personas que dijeron que no y personas que dijeron que si\n",
        "df_num_original_no = df_num_original[df_num_original['y'] == 0].reset_index()\n",
        "df_num_original_yes = df_num_original[df_num_original['y'] == 1].reset_index()\n",
        "\n",
        "#En total hay 4102 personas que son de la clase \"yes\"\n",
        "#Crearemos un dataset con las primeras con las 4102 personas que dijeron que no y las 4102 personas que dijeron que si\n",
        "df_num_balanced = pd.concat([df_num_original_yes, df_num_original_no.sample(n=4102)]).reset_index().drop(columns=[\"level_0\",\"index\"])\n",
        "\n",
        "#Imprimimos el dataset balanceado y la cantidad de elementos de cada clase\n",
        "print(df_num_balanced)\n",
        "print(\"Cantidad de elementos por clase: \")\n",
        "print(df_num_balanced['y'].value_counts())"
      ],
      "metadata": {
        "colab": {
          "base_uri": "https://localhost:8080/"
        },
        "id": "SbEufp0SbaFh",
        "outputId": "aec4fcec-7b8d-4b0e-f7ea-8887a8e153ec"
      },
      "execution_count": 85,
      "outputs": [
        {
          "output_type": "stream",
          "name": "stdout",
          "text": [
            "      age  education  default  balance  housing  loan  contact  day  month  \\\n",
            "0      59          2        0     2343        1     0        0    5      5   \n",
            "1      55          2        0     2476        1     0        0    5      5   \n",
            "2      54          3        0      184        0     0        0    5      5   \n",
            "3      42          3        0        0        1     1        0    5      5   \n",
            "4      37          2        0        1        1     0        0    6      5   \n",
            "...   ...        ...      ...      ...      ...   ...      ...  ...    ...   \n",
            "8199   49          1        0      355        1     0        0    2      6   \n",
            "8200   32          3        0      933        1     0        0   12      5   \n",
            "8201   28          3        0        1        0     0        0   15      7   \n",
            "8202   53          2        0     1139        1     0        0   16      5   \n",
            "8203   28          2        0     1154        0     0        0   29      7   \n",
            "\n",
            "      campaign  ...  services  student  technician  unemployed  divorced  \\\n",
            "0            1  ...         0        0           0           0         0   \n",
            "1            1  ...         1        0           0           0         0   \n",
            "2            2  ...         0        0           0           0         0   \n",
            "3            2  ...         0        0           0           0         0   \n",
            "4            1  ...         0        0           1           0         0   \n",
            "...        ...  ...       ...      ...         ...         ...       ...   \n",
            "8199         7  ...         0        0           0           0         0   \n",
            "8200         4  ...         0        0           0           0         0   \n",
            "8201         4  ...         0        1           0           0         0   \n",
            "8202         6  ...         0        0           0           0         0   \n",
            "8203         3  ...         0        0           0           0         0   \n",
            "\n",
            "      married  single  failure  other  success  \n",
            "0           1       0        1      0        0  \n",
            "1           1       0        1      0        0  \n",
            "2           1       0        1      0        0  \n",
            "3           0       1        1      0        0  \n",
            "4           1       0        1      0        0  \n",
            "...       ...     ...      ...    ...      ...  \n",
            "8199        1       0        1      0        0  \n",
            "8200        0       1        1      0        0  \n",
            "8201        1       0        1      0        0  \n",
            "8202        1       0        1      0        0  \n",
            "8203        0       1        1      0        0  \n",
            "\n",
            "[8204 rows x 30 columns]\n",
            "Cantidad de elementos por clase: \n",
            "1    4102\n",
            "0    4102\n",
            "Name: y, dtype: int64\n"
          ]
        }
      ]
    },
    {
      "cell_type": "markdown",
      "source": [
        "Creamos dos dataframe, uno con unicamente los datos y otro con las clases. Posteriormente estandarizamos los datos."
      ],
      "metadata": {
        "id": "hG1yGCDUcrLg"
      }
    },
    {
      "cell_type": "code",
      "source": [
        "#Dataframe solo con los atributos numericos\n",
        "df_num_balanced_data = df_num_balanced.drop(columns='y')\n",
        "\n",
        "#Dataframe con la columna que indica la clase de cada registro. 1 significa \"yes\", 0 significa \"no\"\n",
        "df_num_balanced_classes = df_num_balanced['y']\n",
        "\n",
        "#Creamos el objeto escalador\n",
        "scaler = StandardScaler()\n",
        "#Ajustamos el escalador a los datos\n",
        "scaler.fit(df_num_original_data)\n",
        "#Escalamos los datos y creamos un nuevo dataframe con los datos standarizados\n",
        "df_num_bal_standard_data = pd.DataFrame(data=scaler.transform(df_num_balanced_data), columns=df_num_balanced_data.columns)\n",
        "\n",
        "print(df_num_bal_standard_data)\n",
        "print(df_num_balanced_classes)"
      ],
      "metadata": {
        "colab": {
          "base_uri": "https://localhost:8080/"
        },
        "id": "vSLVehabcfXz",
        "outputId": "f4d2b8c6-fad4-4c98-f166-6fff290ae33a"
      },
      "execution_count": 87,
      "outputs": [
        {
          "output_type": "stream",
          "name": "stdout",
          "text": [
            "           age  education   default   balance   housing      loan   contact  \\\n",
            "0     1.815777  -0.212911 -0.138101  0.728313  0.888307 -0.443316 -0.249447   \n",
            "1     1.420313  -0.212911 -0.138101  0.804866  0.888307 -0.443316 -0.249447   \n",
            "2     1.321447   1.326505 -0.138101 -0.514382 -1.125737 -0.443316 -0.249447   \n",
            "3     0.135056   1.326505 -0.138101 -0.620291  0.888307  2.255728 -0.249447   \n",
            "4    -0.359274  -0.212911 -0.138101 -0.619715  0.888307 -0.443316 -0.249447   \n",
            "...        ...        ...       ...       ...       ...       ...       ...   \n",
            "8199  0.827117  -1.752327 -0.138101 -0.415957  0.888307 -0.443316 -0.249447   \n",
            "8200 -0.853604   1.326505 -0.138101 -0.083267  0.888307 -0.443316 -0.249447   \n",
            "8201 -1.249067   1.326505 -0.138101 -0.619715 -1.125737 -0.443316 -0.249447   \n",
            "8202  1.222581  -0.212911 -0.138101  0.035304  0.888307 -0.443316 -0.249447   \n",
            "8203 -1.249067  -0.212911 -0.138101  0.043938 -1.125737 -0.443316 -0.249447   \n",
            "\n",
            "           day     month  campaign  ...  services   student  technician  \\\n",
            "0    -1.294860 -0.470331 -0.740412  ... -0.322638 -0.143318   -0.451074   \n",
            "1    -1.294860 -0.470331 -0.740412  ...  3.099453 -0.143318   -0.451074   \n",
            "2    -1.294860 -0.470331 -0.234769  ... -0.322638 -0.143318   -0.451074   \n",
            "3    -1.294860 -0.470331 -0.234769  ... -0.322638 -0.143318   -0.451074   \n",
            "4    -1.174466 -0.470331 -0.740412  ... -0.322638 -0.143318    2.216931   \n",
            "...        ...       ...       ...  ...       ...       ...         ...   \n",
            "8199 -1.656041 -0.052022  2.293445  ... -0.322638 -0.143318   -0.451074   \n",
            "8200 -0.452103 -0.470331  0.776517  ... -0.322638 -0.143318   -0.451074   \n",
            "8201 -0.090921  0.366288  0.776517  ... -0.322638  6.977507   -0.451074   \n",
            "8202  0.029473 -0.470331  1.787802  ... -0.322638 -0.143318   -0.451074   \n",
            "8203  1.594593  0.366288  0.270874  ... -0.322638 -0.143318   -0.451074   \n",
            "\n",
            "      unemployed  divorced   married    single   failure     other   success  \n",
            "0      -0.173146 -0.360763  0.811290 -0.626351  0.246461 -0.174853 -0.168467  \n",
            "1      -0.173146 -0.360763  0.811290 -0.626351  0.246461 -0.174853 -0.168467  \n",
            "2      -0.173146 -0.360763  0.811290 -0.626351  0.246461 -0.174853 -0.168467  \n",
            "3      -0.173146 -0.360763 -1.232604  1.596550  0.246461 -0.174853 -0.168467  \n",
            "4      -0.173146 -0.360763  0.811290 -0.626351  0.246461 -0.174853 -0.168467  \n",
            "...          ...       ...       ...       ...       ...       ...       ...  \n",
            "8199   -0.173146 -0.360763  0.811290 -0.626351  0.246461 -0.174853 -0.168467  \n",
            "8200   -0.173146 -0.360763 -1.232604  1.596550  0.246461 -0.174853 -0.168467  \n",
            "8201   -0.173146 -0.360763  0.811290 -0.626351  0.246461 -0.174853 -0.168467  \n",
            "8202   -0.173146 -0.360763  0.811290 -0.626351  0.246461 -0.174853 -0.168467  \n",
            "8203   -0.173146 -0.360763 -1.232604  1.596550  0.246461 -0.174853 -0.168467  \n",
            "\n",
            "[8204 rows x 29 columns]\n",
            "0       1\n",
            "1       1\n",
            "2       1\n",
            "3       1\n",
            "4       1\n",
            "       ..\n",
            "8199    0\n",
            "8200    0\n",
            "8201    0\n",
            "8202    0\n",
            "8203    0\n",
            "Name: y, Length: 8204, dtype: int64\n"
          ]
        }
      ]
    },
    {
      "cell_type": "markdown",
      "source": [
        "Se hace un muestreo estratificado para obtener un conjunto de datos de entrenamiento con un total del 70% de los datos y otro conjunto de datos de prueba con un total del 30% de los datos."
      ],
      "metadata": {
        "id": "AM18fNW_daPz"
      }
    },
    {
      "cell_type": "code",
      "source": [
        "X_train_bal, X_test_bal, y_train_bal, y_test_bal = train_test_split(df_num_bal_standard_data.values, df_num_balanced_classes.values,test_size=0.3,random_state=0)"
      ],
      "metadata": {
        "id": "7mZTIbtPdZjH"
      },
      "execution_count": 88,
      "outputs": []
    },
    {
      "cell_type": "markdown",
      "source": [
        "A continuación vamos a ejecutar el algoritmo de K-NearestNeighbors con diferentes valores de K evaluando el error que tienen cada uno para ver cual es el valor optimo de K para el algoritmo KNearestNeighbors para el dataset balanceado.\n"
      ],
      "metadata": {
        "id": "jMvk-6HCd1Qw"
      }
    },
    {
      "cell_type": "code",
      "source": [
        "#Se evaluara el error con K de 2 a 33\n",
        "k_values = list(range(2,34))\n",
        "\n",
        "#Listas para ir almacenando el error de entrenamiento y generalización\n",
        "train_error = []\n",
        "test_error = []\n",
        "\n",
        "#Bucle de ejecución de todas las posibilidades de K\n",
        "for k in k_values:\n",
        "    knn = KNeighborsClassifier(n_neighbors=k)\n",
        "    knn.fit(X_train_bal, y_train_bal)\n",
        "    train_error.append(1 - knn.score(X_train_bal, y_train_bal))\n",
        "    test_error.append(1 - knn.score(X_test_bal, y_test_bal))\n",
        "\n",
        "#Lineas para visualizar la curva de aprendizaje\n",
        "pl.figure(figsize = (10, 6))\n",
        "pl.plot(k_values, train_error, label=\"Entrenamiento\")\n",
        "pl.plot(k_values, test_error, label=\"Prueba\")\n",
        "pl.xticks(k_values)\n",
        "pl.xlabel(\"k-vecinos\")\n",
        "pl.ylabel(\"Error\")\n",
        "plt.legend()"
      ],
      "metadata": {
        "colab": {
          "base_uri": "https://localhost:8080/",
          "height": 559
        },
        "id": "FEKoGunedu3h",
        "outputId": "dcc5dee1-d331-401c-a003-20d70576439e"
      },
      "execution_count": 89,
      "outputs": [
        {
          "output_type": "execute_result",
          "data": {
            "text/plain": [
              "<matplotlib.legend.Legend at 0x7c7b58486ce0>"
            ]
          },
          "metadata": {},
          "execution_count": 89
        },
        {
          "output_type": "display_data",
          "data": {
            "text/plain": [
              "<Figure size 1000x600 with 1 Axes>"
            ],
            "image/png": "[encoded data removed]"
          },
          "metadata": {}
        }
      ]
    },
    {
      "cell_type": "markdown",
      "source": [
        "Segun la grafica, 15 vecinos es el valor de k que minimiza el error de validación, asi que ahora se construira un modelo con 15 vecinos y se medira su rendimiento con los datos de prueba del dataset."
      ],
      "metadata": {
        "id": "oSmsfkSEeeV8"
      }
    },
    {
      "cell_type": "code",
      "source": [
        "#Creación del modelo\n",
        "knn_15 = KNeighborsClassifier(n_neighbors=15)\n",
        "knn_15.fit(X_train_bal, y_train_bal)\n",
        "\n",
        "#Se realizan las prediciones sobre le conjunto de datos de prueba\n",
        "y_pred_knn_15 = knn_15.predict(X_test_bal)\n",
        "\n",
        "#Se calcula la matriz de confusión sobre los resultados del modelo y a partir de ello calculamos varias matricas\n",
        "conf_mat_knn_15 = confusion_matrix(y_test_bal, y_pred_knn_15)\n",
        "\n",
        "accuracy_knn_15 = (conf_mat_knn_15[0,0] + conf_mat_knn_15[1,1])/len(y_pred_knn_15)\n",
        "precision_knn_15 = (conf_mat_knn_15[1,1]) / (conf_mat_knn_15[1,1] + conf_mat_knn_15[0,1])\n",
        "recall_knn_15 = (conf_mat_knn_15[1,1]) / (conf_mat_knn_15[1,1] + conf_mat_knn_15[1,0])\n",
        "especificidad_knn_15 = conf_mat_knn_15[0,0] / (conf_mat_knn_15[0,0] + conf_mat_knn_15[0,1])\n",
        "f1_score_knn_15 = (2*precision_knn_15*recall_knn_15)/(precision_knn_15+recall_knn_15)\n",
        "\n",
        "#Imprimimos la matriz de confusion y los resultados de las medidas:\n",
        "print(\"Matriz de confusión 15-NearestNeighbors entrenado con dataset balanceado:\")\n",
        "print(\"--------------------------------------------------\")\n",
        "disp = ConfusionMatrixDisplay(confusion_matrix=conf_mat_knn_15, display_labels=[\"No\",\"Yes\"])\n",
        "disp.plot()\n",
        "plt.show()\n",
        "print()\n",
        "\n",
        "print(\"Medidas de validación 15-NearestNeighbors entrenado con dataset balanceado:\")\n",
        "print(\"--------------------------------------------------\")\n",
        "print(f\"Accuracy = {accuracy_knn_15}\")\n",
        "print(f\"Precision = {precision_knn_15}\")\n",
        "print(f\"Recall = {recall_knn_15}\")\n",
        "print(f\"Especificidad = {especificidad_knn_15}\")\n",
        "print(f\"F1 score = {f1_score_knn_15}\")"
      ],
      "metadata": {
        "colab": {
          "base_uri": "https://localhost:8080/",
          "height": 623
        },
        "id": "VAxJJ7fXeHJc",
        "outputId": "a2f32fee-f24c-4cc7-a609-f96963351590"
      },
      "execution_count": 100,
      "outputs": [
        {
          "output_type": "stream",
          "name": "stdout",
          "text": [
            "Matriz de confusión 15-NearestNeighbors entrenado con dataset balanceado:\n",
            "--------------------------------------------------\n"
          ]
        },
        {
          "output_type": "display_data",
          "data": {
            "text/plain": [
              "<Figure size 640x480 with 2 Axes>"
            ],
            "image/png": "[encoded data removed]"
          },
          "metadata": {}
        },
        {
          "output_type": "stream",
          "name": "stdout",
          "text": [
            "\n",
            "Medidas de validación 15-NearestNeighbors entrenado con dataset balanceado:\n",
            "--------------------------------------------------\n",
            "Accuracy = 0.6620633631194152\n",
            "Precision = 0.6904995102840352\n",
            "Recall = 0.5773955773955773\n",
            "Especificidad = 0.7453666398066076\n",
            "F1 score = 0.6289027653880463\n"
          ]
        }
      ]
    },
    {
      "cell_type": "markdown",
      "source": [
        "Se observa que el rendimiento del clasificador entrenado a partir del dataset balanceado y puesto a prueba con datos balanceados es mucho mejor que cuando se ejecutaba el algoritmo con todos los datos. Aunque tiene un menor accuracy, tiene un F1-score mucho mejor, esto debido a que si logra distinguir varios individuos de la clase \"no\" y de la clase \"yes\"."
      ],
      "metadata": {
        "id": "M72XY61vzbn4"
      }
    },
    {
      "cell_type": "markdown",
      "source": [
        "A continuación vamos a poner a prueba el clasificador creado con el dataset balanceado con los datos de todo el conjunto de datos, para observar su resultado."
      ],
      "metadata": {
        "id": "SJk8GH5kz1nP"
      }
    },
    {
      "cell_type": "code",
      "source": [
        "#Se realizan las prediciones sobre todo el conjunto de datos\n",
        "y_pred_knn_15 = knn_15.predict(df_num_standard_data.values)\n",
        "\n",
        "#Se calcula la matriz de confusión sobre los resultados del modelo y a partir de ello calculamos varias matricas\n",
        "conf_mat_knn_15 = confusion_matrix(df_num_original_classes.values, y_pred_knn_15)\n",
        "\n",
        "accuracy_knn_15 = (conf_mat_knn_15[0,0] + conf_mat_knn_15[1,1])/len(y_pred_knn_15)\n",
        "precision_knn_15 = (conf_mat_knn_15[1,1]) / (conf_mat_knn_15[1,1] + conf_mat_knn_15[0,1])\n",
        "recall_knn_15 = (conf_mat_knn_15[1,1]) / (conf_mat_knn_15[1,1] + conf_mat_knn_15[1,0])\n",
        "f1_score_knn_15 = (2*precision_knn_15*recall_knn_15)/(precision_knn_15+recall_knn_15)\n",
        "\n",
        "#Imprimimos la matriz de confusion y los resultados de las medidas:\n",
        "print(\"Matriz de confusión 15-NearestNeighbors entrenado con dataset balanceado probando con todos los datos:\")\n",
        "print(\"--------------------------------------------------\")\n",
        "disp = ConfusionMatrixDisplay(confusion_matrix=conf_mat_knn_15, display_labels=[\"No\",\"Yes\"])\n",
        "disp.plot()\n",
        "plt.show()\n",
        "print()\n",
        "\n",
        "print(\"Medidas de validación 15-NearestNeighbors entrenado con dataset balanceado probando con todos los datos:\")\n",
        "print(\"--------------------------------------------------\")\n",
        "print(f\"Accuracy = {accuracy_knn_15}\")\n",
        "print(f\"Precision = {precision_knn_15}\")\n",
        "print(f\"Recall = {recall_knn_15}\")\n",
        "print(f\"F1 score = {f1_score_knn_15}\")"
      ],
      "metadata": {
        "colab": {
          "base_uri": "https://localhost:8080/",
          "height": 605
        },
        "id": "ZEdOABNcfI9Y",
        "outputId": "eeec0708-74e9-44b0-e012-deb48e98025d"
      },
      "execution_count": 92,
      "outputs": [
        {
          "output_type": "stream",
          "name": "stdout",
          "text": [
            "Matriz de confusión 15-NearestNeighbors entrenado con dataset balanceado probando con todos los datos:\n",
            "--------------------------------------------------\n"
          ]
        },
        {
          "output_type": "display_data",
          "data": {
            "text/plain": [
              "<Figure size 640x480 with 2 Axes>"
            ],
            "image/png": "[encoded data removed]"
          },
          "metadata": {}
        },
        {
          "output_type": "stream",
          "name": "stdout",
          "text": [
            "\n",
            "Medidas de validación 15-NearestNeighbors entrenado con dataset balanceado probando con todos los datos:\n",
            "--------------------------------------------------\n",
            "Accuracy = 0.7294475541494281\n",
            "Precision = 0.21105527638190955\n",
            "Recall = 0.6245733788395904\n",
            "F1 score = 0.315497814174004\n"
          ]
        }
      ]
    },
    {
      "cell_type": "markdown",
      "source": [
        "Se observa que el clasificador aunque logra identificar varias de las personas que si aceptarian el deposito a plazo, tambien tiene una tasa importante de falsos positivos. Pero es interesante observar que no tiende a agrupar a todos los elementos en una misma clase."
      ],
      "metadata": {
        "id": "jil_-Jug0InQ"
      }
    },
    {
      "cell_type": "markdown",
      "source": [
        "#Pruebas con random forest y un dataset balanceado"
      ],
      "metadata": {
        "id": "K14cfhr2ji4f"
      }
    },
    {
      "cell_type": "markdown",
      "source": [
        "A continuación se va a ejecutar una busqueda para identificar los mejores parametros para este tipo de clasificador. Esta vez se hara sobre el dataset balanceado construido previamente."
      ],
      "metadata": {
        "id": "r_sEfHHW08X6"
      }
    },
    {
      "cell_type": "code",
      "source": [
        "param_grid = {'n_estimators':[5, 15, 25, 35, 45, 55], 'max_features': [0.1, 0.2, 0.3, 0.4, 0.5, 0.6, 0.7, 0.8, 0.9, 1.0]}\n",
        "clf = GridSearchCV(RandomForestClassifier(), param_grid=param_grid, verbose=2, n_jobs=-1, cv=5)\n",
        "clf.fit(X_train_bal, y_train_bal)"
      ],
      "metadata": {
        "colab": {
          "base_uri": "https://localhost:8080/",
          "height": 136
        },
        "id": "WgnFXe2djlXG",
        "outputId": "98de024c-dc61-411c-8ca2-35bc9ad6b668"
      },
      "execution_count": 93,
      "outputs": [
        {
          "output_type": "stream",
          "name": "stdout",
          "text": [
            "Fitting 5 folds for each of 60 candidates, totalling 300 fits\n"
          ]
        },
        {
          "output_type": "execute_result",
          "data": {
            "text/plain": [
              "GridSearchCV(cv=5, estimator=RandomForestClassifier(), n_jobs=-1,\n",
              "             param_grid={'max_features': [0.1, 0.2, 0.3, 0.4, 0.5, 0.6, 0.7,\n",
              "                                          0.8, 0.9, 1.0],\n",
              "                         'n_estimators': [5, 15, 25, 35, 45, 55]},\n",
              "             verbose=2)"
            ],
            "text/html": [
              "<style>#sk-container-id-6 {color: black;background-color: white;}#sk-container-id-6 pre{padding: 0;}#sk-container-id-6 div.sk-toggleable {background-color: white;}#sk-container-id-6 label.sk-toggleable__label {cursor: pointer;display: block;width: 100%;margin-bottom: 0;padding: 0.3em;box-sizing: border-box;text-align: center;}#sk-container-id-6 label.sk-toggleable__label-arrow:before {content: \"▸\";float: left;margin-right: 0.25em;color: #696969;}#sk-container-id-6 label.sk-toggleable__label-arrow:hover:before {color: black;}#sk-container-id-6 div.sk-estimator:hover label.sk-toggleable__label-arrow:before {color: black;}#sk-container-id-6 div.sk-toggleable__content {max-height: 0;max-width: 0;overflow: hidden;text-align: left;background-color: #f0f8ff;}#sk-container-id-6 div.sk-toggleable__content pre {margin: 0.2em;color: black;border-radius: 0.25em;background-color: #f0f8ff;}#sk-container-id-6 input.sk-toggleable__control:checked~div.sk-toggleable__content {max-height: 200px;max-width: 100%;overflow: auto;}#sk-container-id-6 input.sk-toggleable__control:checked~label.sk-toggleable__label-arrow:before {content: \"▾\";}#sk-container-id-6 div.sk-estimator input.sk-toggleable__control:checked~label.sk-toggleable__label {background-color: #d4ebff;}#sk-container-id-6 div.sk-label input.sk-toggleable__control:checked~label.sk-toggleable__label {background-color: #d4ebff;}#sk-container-id-6 input.sk-hidden--visually {border: 0;clip: rect(1px 1px 1px 1px);clip: rect(1px, 1px, 1px, 1px);height: 1px;margin: -1px;overflow: hidden;padding: 0;position: absolute;width: 1px;}#sk-container-id-6 div.sk-estimator {font-family: monospace;background-color: #f0f8ff;border: 1px dotted black;border-radius: 0.25em;box-sizing: border-box;margin-bottom: 0.5em;}#sk-container-id-6 div.sk-estimator:hover {background-color: #d4ebff;}#sk-container-id-6 div.sk-parallel-item::after {content: \"\";width: 100%;border-bottom: 1px solid gray;flex-grow: 1;}#sk-container-id-6 div.sk-label:hover label.sk-toggleable__label {background-color: #d4ebff;}#sk-container-id-6 div.sk-serial::before {content: \"\";position: absolute;border-left: 1px solid gray;box-sizing: border-box;top: 0;bottom: 0;left: 50%;z-index: 0;}#sk-container-id-6 div.sk-serial {display: flex;flex-direction: column;align-items: center;background-color: white;padding-right: 0.2em;padding-left: 0.2em;position: relative;}#sk-container-id-6 div.sk-item {position: relative;z-index: 1;}#sk-container-id-6 div.sk-parallel {display: flex;align-items: stretch;justify-content: center;background-color: white;position: relative;}#sk-container-id-6 div.sk-item::before, #sk-container-id-6 div.sk-parallel-item::before {content: \"\";position: absolute;border-left: 1px solid gray;box-sizing: border-box;top: 0;bottom: 0;left: 50%;z-index: -1;}#sk-container-id-6 div.sk-parallel-item {display: flex;flex-direction: column;z-index: 1;position: relative;background-color: white;}#sk-container-id-6 div.sk-parallel-item:first-child::after {align-self: flex-end;width: 50%;}#sk-container-id-6 div.sk-parallel-item:last-child::after {align-self: flex-start;width: 50%;}#sk-container-id-6 div.sk-parallel-item:only-child::after {width: 0;}#sk-container-id-6 div.sk-dashed-wrapped {border: 1px dashed gray;margin: 0 0.4em 0.5em 0.4em;box-sizing: border-box;padding-bottom: 0.4em;background-color: white;}#sk-container-id-6 div.sk-label label {font-family: monospace;font-weight: bold;display: inline-block;line-height: 1.2em;}#sk-container-id-6 div.sk-label-container {text-align: center;}#sk-container-id-6 div.sk-container {/* jupyter's `normalize.less` sets `[hidden] { display: none; }` but bootstrap.min.css set `[hidden] { display: none !important; }` so we also need the `!important` here to be able to override the default hidden behavior on the sphinx rendered scikit-learn.org. See: https://github.com/scikit-learn/scikit-learn/issues/21755 */display: inline-block !important;position: relative;}#sk-container-id-6 div.sk-text-repr-fallback {display: none;}</style><div id=\"sk-container-id-6\" class=\"sk-top-container\"><div class=\"sk-text-repr-fallback\"><pre>GridSearchCV(cv=5, estimator=RandomForestClassifier(), n_jobs=-1,\n",
              "             param_grid={&#x27;max_features&#x27;: [0.1, 0.2, 0.3, 0.4, 0.5, 0.6, 0.7,\n",
              "                                          0.8, 0.9, 1.0],\n",
              "                         &#x27;n_estimators&#x27;: [5, 15, 25, 35, 45, 55]},\n",
              "             verbose=2)</pre><b>In a Jupyter environment, please rerun this cell to show the HTML representation or trust the notebook. <br />On GitHub, the HTML representation is unable to render, please try loading this page with nbviewer.org.</b></div><div class=\"sk-container\" hidden><div class=\"sk-item sk-dashed-wrapped\"><div class=\"sk-label-container\"><div class=\"sk-label sk-toggleable\"><input class=\"sk-toggleable__control sk-hidden--visually\" id=\"sk-estimator-id-16\" type=\"checkbox\" ><label for=\"sk-estimator-id-16\" class=\"sk-toggleable__label sk-toggleable__label-arrow\">GridSearchCV</label><div class=\"sk-toggleable__content\"><pre>GridSearchCV(cv=5, estimator=RandomForestClassifier(), n_jobs=-1,\n",
              "             param_grid={&#x27;max_features&#x27;: [0.1, 0.2, 0.3, 0.4, 0.5, 0.6, 0.7,\n",
              "                                          0.8, 0.9, 1.0],\n",
              "                         &#x27;n_estimators&#x27;: [5, 15, 25, 35, 45, 55]},\n",
              "             verbose=2)</pre></div></div></div><div class=\"sk-parallel\"><div class=\"sk-parallel-item\"><div class=\"sk-item\"><div class=\"sk-label-container\"><div class=\"sk-label sk-toggleable\"><input class=\"sk-toggleable__control sk-hidden--visually\" id=\"sk-estimator-id-17\" type=\"checkbox\" ><label for=\"sk-estimator-id-17\" class=\"sk-toggleable__label sk-toggleable__label-arrow\">estimator: RandomForestClassifier</label><div class=\"sk-toggleable__content\"><pre>RandomForestClassifier()</pre></div></div></div><div class=\"sk-serial\"><div class=\"sk-item\"><div class=\"sk-estimator sk-toggleable\"><input class=\"sk-toggleable__control sk-hidden--visually\" id=\"sk-estimator-id-18\" type=\"checkbox\" ><label for=\"sk-estimator-id-18\" class=\"sk-toggleable__label sk-toggleable__label-arrow\">RandomForestClassifier</label><div class=\"sk-toggleable__content\"><pre>RandomForestClassifier()</pre></div></div></div></div></div></div></div></div></div></div>"
            ]
          },
          "metadata": {},
          "execution_count": 93
        }
      ]
    },
    {
      "cell_type": "markdown",
      "source": [
        "A partir del proceso anterior obtenemos el valor de los mejores parametros para el random forest y el accuracy que se obtuvo con dichos parametros."
      ],
      "metadata": {
        "id": "4xovlULc1Jnc"
      }
    },
    {
      "cell_type": "code",
      "source": [
        "print(\"Mejores parametros: \",clf.best_params_)\n",
        "print(\"Accuracy promedio obtenido con dicha configuracion: \",clf.best_score_)"
      ],
      "metadata": {
        "colab": {
          "base_uri": "https://localhost:8080/"
        },
        "id": "iO9ckOVSkIur",
        "outputId": "abd43f6f-8485-4bfb-a50f-98233edb3417"
      },
      "execution_count": 94,
      "outputs": [
        {
          "output_type": "stream",
          "name": "stdout",
          "text": [
            "Mejores parametros:  {'max_features': 0.4, 'n_estimators': 45}\n",
            "Accuracy promedio obtenido con dicha configuracion:  0.7157769367697406\n"
          ]
        }
      ]
    },
    {
      "cell_type": "markdown",
      "source": [
        "A continuacion creamos un clasificador random forest con los parametros indicados anteriormente y calculamos algunas medidas para evaluar su rendimiento."
      ],
      "metadata": {
        "id": "zktuZ9671UR2"
      }
    },
    {
      "cell_type": "code",
      "source": [
        "#Creación del modelo\n",
        "rf = RandomForestClassifier(n_estimators=45, max_features=0.4)\n",
        "rf.fit(X_train_bal, y_train_bal);\n",
        "\n",
        "#Se realizan las prediciones sobre le conjunto de datos de prueba\n",
        "y_pred_rf = rf.predict(X_test_bal)\n",
        "\n",
        "#Se calcula la matriz de confusión sobre los resultados del modelo y a partir de ello calculamos varias matricas\n",
        "conf_mat_rf = confusion_matrix(y_test_bal, y_pred_rf)\n",
        "\n",
        "accuracy_rf = (conf_mat_rf[0,0] + conf_mat_rf[1,1])/len(y_pred_rf)\n",
        "precision_rf = (conf_mat_rf[1,1]) / (conf_mat_rf[1,1] + conf_mat_rf[0,1])\n",
        "recall_rf = (conf_mat_rf[1,1]) / (conf_mat_rf[1,1] + conf_mat_rf[1,0])\n",
        "especificidad_rf = conf_mat_rf[0,0] / (conf_mat_rf[0,0] + conf_mat_rf[0,1])\n",
        "f1_score_rf = (2*precision_rf*recall_rf)/(precision_rf+recall_rf)\n",
        "\n",
        "#Imprimimos la matriz de confusion y los resultados de las medidas:\n",
        "print(\"Matriz de confusión Random Forest con un dataset balanceado:\")\n",
        "print(\"--------------------------------------------------\")\n",
        "disp = ConfusionMatrixDisplay(confusion_matrix=conf_mat_rf, display_labels=[\"no\",\"yes\"])\n",
        "disp.plot()\n",
        "plt.show()\n",
        "print()\n",
        "\n",
        "print(\"Medidas de validación Random Forest con un dataset balanceado\")\n",
        "print(\"--------------------------------------------------\")\n",
        "print(f\"Accuracy = {accuracy_rf}\")\n",
        "print(f\"Precision = {precision_rf}\")\n",
        "print(f\"Recall = {recall_rf}\")\n",
        "print(f\"Especificidad = {especificidad_rf}\")\n",
        "print(f\"F1 score = {f1_score_rf}\")"
      ],
      "metadata": {
        "colab": {
          "base_uri": "https://localhost:8080/",
          "height": 623
        },
        "id": "VJeeOD-9kHUm",
        "outputId": "98e5552e-f695-43d8-8dfa-08c358d5d527"
      },
      "execution_count": 98,
      "outputs": [
        {
          "output_type": "stream",
          "name": "stdout",
          "text": [
            "Matriz de confusión Random Forest con un dataset balanceado:\n",
            "--------------------------------------------------\n"
          ]
        },
        {
          "output_type": "display_data",
          "data": {
            "text/plain": [
              "<Figure size 640x480 with 2 Axes>"
            ],
            "image/png": "[encoded data removed]"
          },
          "metadata": {}
        },
        {
          "output_type": "stream",
          "name": "stdout",
          "text": [
            "\n",
            "Medidas de validación Random Forest con un dataset balanceado\n",
            "--------------------------------------------------\n",
            "Accuracy = 0.7034930950446792\n",
            "Precision = 0.7309501411100658\n",
            "Recall = 0.6363636363636364\n",
            "Especificidad = 0.7695406929895245\n",
            "F1 score = 0.6803852889667251\n"
          ]
        }
      ]
    },
    {
      "cell_type": "markdown",
      "source": [
        "Nuevamente se observa que el rendimiento del clasificador entrenado a partir del dataset balanceado y puesto a prueba con datos balanceados es mucho mejor que cuando se ejecutaba el algoritmo con todos los datos. Aunque tiene un menor accuracy, tiene un F1-score mucho mejor, esto debido a que si logra distinguir varios individuos de la clase \"no\" y de la clase \"yes\".\n",
        "\n",
        "El rendimiento entre los algoritmos Random Forest y KNearestNeighbors es muy similar tanto sobre los datos balanceados como sobre los datos no balanceados."
      ],
      "metadata": {
        "id": "Kg5ZDYdx1sbI"
      }
    },
    {
      "cell_type": "markdown",
      "source": [
        "Otro aspecto interesante del modelo random forest es que nos permite ver cuales fueron los atributos más importantes a la hora de construir los arboles de decisión. En la siguiente celda se observa que los atributos más importantes son la columna 1, 4 y 8, las cuales corresponden a Age, Balance y Month."
      ],
      "metadata": {
        "id": "zgkN_B4018Aw"
      }
    },
    {
      "cell_type": "code",
      "source": [
        "print(rf.feature_importances_)"
      ],
      "metadata": {
        "colab": {
          "base_uri": "https://localhost:8080/"
        },
        "id": "Jj2OAC1w1_bh",
        "outputId": "48c48fc2-dba9-41a8-8d87-bfa693584368"
      },
      "execution_count": 96,
      "outputs": [
        {
          "output_type": "stream",
          "name": "stdout",
          "text": [
            "[0.14566297 0.03325627 0.00378392 0.17965899 0.04779077 0.01705051\n",
            " 0.00856578 0.13302623 0.09823695 0.06100201 0.04128089 0.0236444\n",
            " 0.01389816 0.01490223 0.00541971 0.0046074  0.01467962 0.00507836\n",
            " 0.00626929 0.01081234 0.00381932 0.01473867 0.00681459 0.00883753\n",
            " 0.01396736 0.01412756 0.01771038 0.00309434 0.04826342]\n"
          ]
        }
      ]
    },
    {
      "cell_type": "markdown",
      "source": [
        "A continuación vamos a poner a prueba el clasificador creado con el dataset balanceado con los datos de todo el conjunto de datos, para observar su resultado."
      ],
      "metadata": {
        "id": "UKfYhPIi2YWi"
      }
    },
    {
      "cell_type": "code",
      "source": [
        "#Se realizan las prediciones sobre todo el conjunto de datos\n",
        "y_pred_rf = rf.predict(df_num_standard_data.values)\n",
        "\n",
        "#Se calcula la matriz de confusión sobre los resultados del modelo y a partir de ello calculamos varias matricas\n",
        "conf_mat_rf = confusion_matrix(df_num_original_classes.values, y_pred_rf)\n",
        "\n",
        "accuracy_rf = (conf_mat_rf[0,0] + conf_mat_rf[1,1])/len(y_pred_rf)\n",
        "precision_rf = (conf_mat_rf[1,1]) / (conf_mat_rf[1,1] + conf_mat_rf[0,1])\n",
        "recall_rf = (conf_mat_rf[1,1]) / (conf_mat_rf[1,1] + conf_mat_rf[1,0])\n",
        "f1_score_rf = (2*precision_rf*recall_rf)/(precision_rf+recall_rf)\n",
        "\n",
        "#Imprimimos la matriz de confusion y los resultados de las medidas:\n",
        "print(\"Matriz de confusión Random Forest entrenado en un conjunto balanceado prediciendo sobre todo el conjunto de datos:\")\n",
        "print(\"--------------------------------------------------\")\n",
        "disp = ConfusionMatrixDisplay(confusion_matrix=conf_mat_rf, display_labels=[\"no\",\"yes\"])\n",
        "disp.plot()\n",
        "plt.show()\n",
        "print()\n",
        "\n",
        "print(\"Medidas de validación Random Forest entrenado en un conjunto balanceado prediciendo sobre todo el conjunto de datos:\")\n",
        "print(\"--------------------------------------------------\")\n",
        "print(f\"Accuracy = {accuracy_rf}\")\n",
        "print(f\"Precision = {precision_rf}\")\n",
        "print(f\"Recall = {recall_rf}\")\n",
        "print(f\"F1 score = {f1_score_rf}\")"
      ],
      "metadata": {
        "colab": {
          "base_uri": "https://localhost:8080/",
          "height": 605
        },
        "id": "fjciDrBA2Zc3",
        "outputId": "d1e3ef3e-933f-4604-9806-3d5471d6325b"
      },
      "execution_count": 97,
      "outputs": [
        {
          "output_type": "stream",
          "name": "stdout",
          "text": [
            "Matriz de confusión Random Forest entrenado en un conjunto balanceado prediciendo sobre todo el conjunto de datos:\n",
            "--------------------------------------------------\n"
          ]
        },
        {
          "output_type": "display_data",
          "data": {
            "text/plain": [
              "<Figure size 640x480 with 2 Axes>"
            ],
            "image/png": "[encoded data removed]"
          },
          "metadata": {}
        },
        {
          "output_type": "stream",
          "name": "stdout",
          "text": [
            "\n",
            "Medidas de validación Random Forest entrenado en un conjunto balanceado prediciendo sobre todo el conjunto de datos:\n",
            "--------------------------------------------------\n",
            "Accuracy = 0.7978583596982234\n",
            "Precision = 0.31753472222222223\n",
            "Recall = 0.8917601170160897\n",
            "F1 score = 0.46831391627192415\n"
          ]
        }
      ]
    },
    {
      "cell_type": "markdown",
      "source": [
        "No tiene un rendimiento tan bueno, al igual que KNearestNeighbors, se observa que ocurren muchos falsos positivos. Aunque es interesante ver que logra clasificar bastantes personas de la clase positiva y negativa correctamente. Pero puede ser que clasifique bien las muestras de la clase positiva porque las vio todas durante su entrenamiento."
      ],
      "metadata": {
        "id": "s7Y1Mc9p24Bg"
      }
    }
  ]
}