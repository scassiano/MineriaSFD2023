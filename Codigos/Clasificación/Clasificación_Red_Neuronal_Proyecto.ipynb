{
  "nbformat": 4,
  "nbformat_minor": 0,
  "metadata": {
    "colab": {
      "provenance": []
    },
    "kernelspec": {
      "name": "python3",
      "display_name": "Python 3"
    },
    "language_info": {
      "name": "python"
    }
  },
  "cells": [
    {
      "cell_type": "markdown",
      "source": [
        "# Clasificación usando redes neuronales\n",
        "Para este punto se empleará el dataset numérico donde las variables categóricas se transforman en numéricas via one-hot encoding"
      ],
      "metadata": {
        "id": "4R-VxDypeH24"
      }
    },
    {
      "cell_type": "code",
      "execution_count": null,
      "metadata": {
        "id": "8BAqnZNBhgA4"
      },
      "outputs": [],
      "source": [
        "import tensorflow as tf\n",
        "from tensorflow import keras\n",
        "import pandas as pd\n",
        "import numpy as np\n",
        "from sklearn.model_selection import train_test_split\n",
        "from sklearn.metrics import confusion_matrix\n",
        "from sklearn.metrics import ConfusionMatrixDisplay\n",
        "from sklearn.metrics import roc_curve\n",
        "from sklearn.metrics import roc_auc_score"
      ]
    },
    {
      "cell_type": "code",
      "source": [
        "dataset = pd.read_csv('numerico.csv')\n",
        "dataset = dataset.iloc[:,1:]\n",
        "print(dataset.shape)"
      ],
      "metadata": {
        "id": "IWiVth3HS_AJ",
        "colab": {
          "base_uri": "https://localhost:8080/"
        },
        "outputId": "5d1dc42a-1c67-4094-d6a2-ec706ab6875a"
      },
      "execution_count": null,
      "outputs": [
        {
          "output_type": "stream",
          "name": "stdout",
          "text": [
            "(41090, 31)\n"
          ]
        }
      ]
    },
    {
      "cell_type": "code",
      "source": [
        "for column in [\"age\", \"balance\", \"duration\" , \"pdays\", \"previous\"]:\n",
        "  dataset[column] = (dataset[column] - np.mean(dataset[column])) / np.std(dataset[column])\n",
        "dataset = dataset[list(dataset.columns[0:13]) + list(dataset.columns[14:31]) + list(dataset.columns[13])]\n",
        "\n",
        "dataset"
      ],
      "metadata": {
        "id": "MsV3DAyqdr_q",
        "colab": {
          "base_uri": "https://localhost:8080/",
          "height": 444
        },
        "outputId": "e4aa0e54-868c-45f4-bead-cfe42eed4477"
      },
      "execution_count": null,
      "outputs": [
        {
          "output_type": "execute_result",
          "data": {
            "text/plain": [
              "            age  education  default   balance  housing  loan  contact  day  \\\n",
              "0      1.716911          3        0  0.613195        1     0        0    5   \n",
              "1      0.332788          2        0 -0.603598        1     0        0    5   \n",
              "2     -0.754738          2        0 -0.619139        1     1        0    5   \n",
              "3      0.629385          2        0  0.246545        1     0        0    5   \n",
              "4     -0.754738          2        0 -0.619715        0     0        0    5   \n",
              "...         ...        ...      ...       ...      ...   ...      ...  ...   \n",
              "41085 -1.743397          3        0 -0.555249        0     0        0   17   \n",
              "41086 -1.545665          2        0 -0.329618        0     1        0   17   \n",
              "41087  1.024849          3        0 -0.145430        0     0        0   17   \n",
              "41088  3.002168          1        0  0.374901        0     0        0   17   \n",
              "41089  1.618045          2        0 -0.235798        0     0        1   17   \n",
              "\n",
              "       month  duration  ...  student  technician  unemployed  divorced  \\\n",
              "0          5  0.127278  ...        0           0           0         0   \n",
              "1          5 -0.440774  ...        0           1           0         0   \n",
              "2          5 -0.828081  ...        0           0           0         0   \n",
              "3          5 -0.745456  ...        0           0           0         0   \n",
              "4          5 -0.198061  ...        0           0           0         0   \n",
              "...      ...       ...  ...      ...         ...         ...       ...   \n",
              "41085     11  0.153098  ...        1           0           0         0   \n",
              "41086     11  0.772791  ...        0           1           0         0   \n",
              "41087     11  3.824775  ...        0           1           0         0   \n",
              "41088     11  1.134278  ...        0           0           0         1   \n",
              "41089     11  1.402811  ...        0           0           0         0   \n",
              "\n",
              "       married  single  failure  other  success  y  \n",
              "0            1       0        1      0        0  0  \n",
              "1            0       1        1      0        0  0  \n",
              "2            1       0        1      0        0  0  \n",
              "3            1       0        1      0        0  0  \n",
              "4            0       1        1      0        0  0  \n",
              "...        ...     ...      ...    ...      ... ..  \n",
              "41085        0       1        1      0        0  1  \n",
              "41086        0       1        1      0        0  1  \n",
              "41087        1       0        1      0        0  1  \n",
              "41088        0       0        1      0        0  1  \n",
              "41089        1       0        1      0        0  0  \n",
              "\n",
              "[41090 rows x 31 columns]"
            ],
            "text/html": [
              "\n",
              "  <div id=\"df-bb894e94-b56b-4af0-b238-cc4760a370bf\" class=\"colab-df-container\">\n",
              "    <div>\n",
              "<style scoped>\n",
              "    .dataframe tbody tr th:only-of-type {\n",
              "        vertical-align: middle;\n",
              "    }\n",
              "\n",
              "    .dataframe tbody tr th {\n",
              "        vertical-align: top;\n",
              "    }\n",
              "\n",
              "    .dataframe thead th {\n",
              "        text-align: right;\n",
              "    }\n",
              "</style>\n",
              "<table border=\"1\" class=\"dataframe\">\n",
              "  <thead>\n",
              "    <tr style=\"text-align: right;\">\n",
              "      <th></th>\n",
              "      <th>age</th>\n",
              "      <th>education</th>\n",
              "      <th>default</th>\n",
              "      <th>balance</th>\n",
              "      <th>housing</th>\n",
              "      <th>loan</th>\n",
              "      <th>contact</th>\n",
              "      <th>day</th>\n",
              "      <th>month</th>\n",
              "      <th>duration</th>\n",
              "      <th>...</th>\n",
              "      <th>student</th>\n",
              "      <th>technician</th>\n",
              "      <th>unemployed</th>\n",
              "      <th>divorced</th>\n",
              "      <th>married</th>\n",
              "      <th>single</th>\n",
              "      <th>failure</th>\n",
              "      <th>other</th>\n",
              "      <th>success</th>\n",
              "      <th>y</th>\n",
              "    </tr>\n",
              "  </thead>\n",
              "  <tbody>\n",
              "    <tr>\n",
              "      <th>0</th>\n",
              "      <td>1.716911</td>\n",
              "      <td>3</td>\n",
              "      <td>0</td>\n",
              "      <td>0.613195</td>\n",
              "      <td>1</td>\n",
              "      <td>0</td>\n",
              "      <td>0</td>\n",
              "      <td>5</td>\n",
              "      <td>5</td>\n",
              "      <td>0.127278</td>\n",
              "      <td>...</td>\n",
              "      <td>0</td>\n",
              "      <td>0</td>\n",
              "      <td>0</td>\n",
              "      <td>0</td>\n",
              "      <td>1</td>\n",
              "      <td>0</td>\n",
              "      <td>1</td>\n",
              "      <td>0</td>\n",
              "      <td>0</td>\n",
              "      <td>0</td>\n",
              "    </tr>\n",
              "    <tr>\n",
              "      <th>1</th>\n",
              "      <td>0.332788</td>\n",
              "      <td>2</td>\n",
              "      <td>0</td>\n",
              "      <td>-0.603598</td>\n",
              "      <td>1</td>\n",
              "      <td>0</td>\n",
              "      <td>0</td>\n",
              "      <td>5</td>\n",
              "      <td>5</td>\n",
              "      <td>-0.440774</td>\n",
              "      <td>...</td>\n",
              "      <td>0</td>\n",
              "      <td>1</td>\n",
              "      <td>0</td>\n",
              "      <td>0</td>\n",
              "      <td>0</td>\n",
              "      <td>1</td>\n",
              "      <td>1</td>\n",
              "      <td>0</td>\n",
              "      <td>0</td>\n",
              "      <td>0</td>\n",
              "    </tr>\n",
              "    <tr>\n",
              "      <th>2</th>\n",
              "      <td>-0.754738</td>\n",
              "      <td>2</td>\n",
              "      <td>0</td>\n",
              "      <td>-0.619139</td>\n",
              "      <td>1</td>\n",
              "      <td>1</td>\n",
              "      <td>0</td>\n",
              "      <td>5</td>\n",
              "      <td>5</td>\n",
              "      <td>-0.828081</td>\n",
              "      <td>...</td>\n",
              "      <td>0</td>\n",
              "      <td>0</td>\n",
              "      <td>0</td>\n",
              "      <td>0</td>\n",
              "      <td>1</td>\n",
              "      <td>0</td>\n",
              "      <td>1</td>\n",
              "      <td>0</td>\n",
              "      <td>0</td>\n",
              "      <td>0</td>\n",
              "    </tr>\n",
              "    <tr>\n",
              "      <th>3</th>\n",
              "      <td>0.629385</td>\n",
              "      <td>2</td>\n",
              "      <td>0</td>\n",
              "      <td>0.246545</td>\n",
              "      <td>1</td>\n",
              "      <td>0</td>\n",
              "      <td>0</td>\n",
              "      <td>5</td>\n",
              "      <td>5</td>\n",
              "      <td>-0.745456</td>\n",
              "      <td>...</td>\n",
              "      <td>0</td>\n",
              "      <td>0</td>\n",
              "      <td>0</td>\n",
              "      <td>0</td>\n",
              "      <td>1</td>\n",
              "      <td>0</td>\n",
              "      <td>1</td>\n",
              "      <td>0</td>\n",
              "      <td>0</td>\n",
              "      <td>0</td>\n",
              "    </tr>\n",
              "    <tr>\n",
              "      <th>4</th>\n",
              "      <td>-0.754738</td>\n",
              "      <td>2</td>\n",
              "      <td>0</td>\n",
              "      <td>-0.619715</td>\n",
              "      <td>0</td>\n",
              "      <td>0</td>\n",
              "      <td>0</td>\n",
              "      <td>5</td>\n",
              "      <td>5</td>\n",
              "      <td>-0.198061</td>\n",
              "      <td>...</td>\n",
              "      <td>0</td>\n",
              "      <td>0</td>\n",
              "      <td>0</td>\n",
              "      <td>0</td>\n",
              "      <td>0</td>\n",
              "      <td>1</td>\n",
              "      <td>1</td>\n",
              "      <td>0</td>\n",
              "      <td>0</td>\n",
              "      <td>0</td>\n",
              "    </tr>\n",
              "    <tr>\n",
              "      <th>...</th>\n",
              "      <td>...</td>\n",
              "      <td>...</td>\n",
              "      <td>...</td>\n",
              "      <td>...</td>\n",
              "      <td>...</td>\n",
              "      <td>...</td>\n",
              "      <td>...</td>\n",
              "      <td>...</td>\n",
              "      <td>...</td>\n",
              "      <td>...</td>\n",
              "      <td>...</td>\n",
              "      <td>...</td>\n",
              "      <td>...</td>\n",
              "      <td>...</td>\n",
              "      <td>...</td>\n",
              "      <td>...</td>\n",
              "      <td>...</td>\n",
              "      <td>...</td>\n",
              "      <td>...</td>\n",
              "      <td>...</td>\n",
              "      <td>...</td>\n",
              "    </tr>\n",
              "    <tr>\n",
              "      <th>41085</th>\n",
              "      <td>-1.743397</td>\n",
              "      <td>3</td>\n",
              "      <td>0</td>\n",
              "      <td>-0.555249</td>\n",
              "      <td>0</td>\n",
              "      <td>0</td>\n",
              "      <td>0</td>\n",
              "      <td>17</td>\n",
              "      <td>11</td>\n",
              "      <td>0.153098</td>\n",
              "      <td>...</td>\n",
              "      <td>1</td>\n",
              "      <td>0</td>\n",
              "      <td>0</td>\n",
              "      <td>0</td>\n",
              "      <td>0</td>\n",
              "      <td>1</td>\n",
              "      <td>1</td>\n",
              "      <td>0</td>\n",
              "      <td>0</td>\n",
              "      <td>1</td>\n",
              "    </tr>\n",
              "    <tr>\n",
              "      <th>41086</th>\n",
              "      <td>-1.545665</td>\n",
              "      <td>2</td>\n",
              "      <td>0</td>\n",
              "      <td>-0.329618</td>\n",
              "      <td>0</td>\n",
              "      <td>1</td>\n",
              "      <td>0</td>\n",
              "      <td>17</td>\n",
              "      <td>11</td>\n",
              "      <td>0.772791</td>\n",
              "      <td>...</td>\n",
              "      <td>0</td>\n",
              "      <td>1</td>\n",
              "      <td>0</td>\n",
              "      <td>0</td>\n",
              "      <td>0</td>\n",
              "      <td>1</td>\n",
              "      <td>1</td>\n",
              "      <td>0</td>\n",
              "      <td>0</td>\n",
              "      <td>1</td>\n",
              "    </tr>\n",
              "    <tr>\n",
              "      <th>41087</th>\n",
              "      <td>1.024849</td>\n",
              "      <td>3</td>\n",
              "      <td>0</td>\n",
              "      <td>-0.145430</td>\n",
              "      <td>0</td>\n",
              "      <td>0</td>\n",
              "      <td>0</td>\n",
              "      <td>17</td>\n",
              "      <td>11</td>\n",
              "      <td>3.824775</td>\n",
              "      <td>...</td>\n",
              "      <td>0</td>\n",
              "      <td>1</td>\n",
              "      <td>0</td>\n",
              "      <td>0</td>\n",
              "      <td>1</td>\n",
              "      <td>0</td>\n",
              "      <td>1</td>\n",
              "      <td>0</td>\n",
              "      <td>0</td>\n",
              "      <td>1</td>\n",
              "    </tr>\n",
              "    <tr>\n",
              "      <th>41088</th>\n",
              "      <td>3.002168</td>\n",
              "      <td>1</td>\n",
              "      <td>0</td>\n",
              "      <td>0.374901</td>\n",
              "      <td>0</td>\n",
              "      <td>0</td>\n",
              "      <td>0</td>\n",
              "      <td>17</td>\n",
              "      <td>11</td>\n",
              "      <td>1.134278</td>\n",
              "      <td>...</td>\n",
              "      <td>0</td>\n",
              "      <td>0</td>\n",
              "      <td>0</td>\n",
              "      <td>1</td>\n",
              "      <td>0</td>\n",
              "      <td>0</td>\n",
              "      <td>1</td>\n",
              "      <td>0</td>\n",
              "      <td>0</td>\n",
              "      <td>1</td>\n",
              "    </tr>\n",
              "    <tr>\n",
              "      <th>41089</th>\n",
              "      <td>1.618045</td>\n",
              "      <td>2</td>\n",
              "      <td>0</td>\n",
              "      <td>-0.235798</td>\n",
              "      <td>0</td>\n",
              "      <td>0</td>\n",
              "      <td>1</td>\n",
              "      <td>17</td>\n",
              "      <td>11</td>\n",
              "      <td>1.402811</td>\n",
              "      <td>...</td>\n",
              "      <td>0</td>\n",
              "      <td>0</td>\n",
              "      <td>0</td>\n",
              "      <td>0</td>\n",
              "      <td>1</td>\n",
              "      <td>0</td>\n",
              "      <td>1</td>\n",
              "      <td>0</td>\n",
              "      <td>0</td>\n",
              "      <td>0</td>\n",
              "    </tr>\n",
              "  </tbody>\n",
              "</table>\n",
              "<p>41090 rows × 31 columns</p>\n",
              "</div>\n",
              "    <div class=\"colab-df-buttons\">\n",
              "\n",
              "  <div class=\"colab-df-container\">\n",
              "    <button class=\"colab-df-convert\" onclick=\"convertToInteractive('df-bb894e94-b56b-4af0-b238-cc4760a370bf')\"\n",
              "            title=\"Convert this dataframe to an interactive table.\"\n",
              "            style=\"display:none;\">\n",
              "\n",
              "  <svg xmlns=\"http://www.w3.org/2000/svg\" height=\"24px\" viewBox=\"0 -960 960 960\">\n",
              "    <path d=\"M120-120v-720h720v720H120Zm60-500h600v-160H180v160Zm220 220h160v-160H400v160Zm0 220h160v-160H400v160ZM180-400h160v-160H180v160Zm440 0h160v-160H620v160ZM180-180h160v-160H180v160Zm440 0h160v-160H620v160Z\"/>\n",
              "  </svg>\n",
              "    </button>\n",
              "\n",
              "  <style>\n",
              "    .colab-df-container {\n",
              "      display:flex;\n",
              "      gap: 12px;\n",
              "    }\n",
              "\n",
              "    .colab-df-convert {\n",
              "      background-color: #E8F0FE;\n",
              "      border: none;\n",
              "      border-radius: 50%;\n",
              "      cursor: pointer;\n",
              "      display: none;\n",
              "      fill: #1967D2;\n",
              "      height: 32px;\n",
              "      padding: 0 0 0 0;\n",
              "      width: 32px;\n",
              "    }\n",
              "\n",
              "    .colab-df-convert:hover {\n",
              "      background-color: #E2EBFA;\n",
              "      box-shadow: 0px 1px 2px rgba(60, 64, 67, 0.3), 0px 1px 3px 1px rgba(60, 64, 67, 0.15);\n",
              "      fill: #174EA6;\n",
              "    }\n",
              "\n",
              "    .colab-df-buttons div {\n",
              "      margin-bottom: 4px;\n",
              "    }\n",
              "\n",
              "    [theme=dark] .colab-df-convert {\n",
              "      background-color: #3B4455;\n",
              "      fill: #D2E3FC;\n",
              "    }\n",
              "\n",
              "    [theme=dark] .colab-df-convert:hover {\n",
              "      background-color: #434B5C;\n",
              "      box-shadow: 0px 1px 3px 1px rgba(0, 0, 0, 0.15);\n",
              "      filter: drop-shadow(0px 1px 2px rgba(0, 0, 0, 0.3));\n",
              "      fill: #FFFFFF;\n",
              "    }\n",
              "  </style>\n",
              "\n",
              "    <script>\n",
              "      const buttonEl =\n",
              "        document.querySelector('#df-bb894e94-b56b-4af0-b238-cc4760a370bf button.colab-df-convert');\n",
              "      buttonEl.style.display =\n",
              "        google.colab.kernel.accessAllowed ? 'block' : 'none';\n",
              "\n",
              "      async function convertToInteractive(key) {\n",
              "        const element = document.querySelector('#df-bb894e94-b56b-4af0-b238-cc4760a370bf');\n",
              "        const dataTable =\n",
              "          await google.colab.kernel.invokeFunction('convertToInteractive',\n",
              "                                                    [key], {});\n",
              "        if (!dataTable) return;\n",
              "\n",
              "        const docLinkHtml = 'Like what you see? Visit the ' +\n",
              "          '<a target=\"_blank\" href=https://colab.research.google.com/notebooks/data_table.ipynb>data table notebook</a>'\n",
              "          + ' to learn more about interactive tables.';\n",
              "        element.innerHTML = '';\n",
              "        dataTable['output_type'] = 'display_data';\n",
              "        await google.colab.output.renderOutput(dataTable, element);\n",
              "        const docLink = document.createElement('div');\n",
              "        docLink.innerHTML = docLinkHtml;\n",
              "        element.appendChild(docLink);\n",
              "      }\n",
              "    </script>\n",
              "  </div>\n",
              "\n",
              "\n",
              "<div id=\"df-ad791296-eb4b-4cd5-a6ea-1beabae3afd7\">\n",
              "  <button class=\"colab-df-quickchart\" onclick=\"quickchart('df-ad791296-eb4b-4cd5-a6ea-1beabae3afd7')\"\n",
              "            title=\"Suggest charts\"\n",
              "            style=\"display:none;\">\n",
              "\n",
              "<svg xmlns=\"http://www.w3.org/2000/svg\" height=\"24px\"viewBox=\"0 0 24 24\"\n",
              "     width=\"24px\">\n",
              "    <g>\n",
              "        <path d=\"M19 3H5c-1.1 0-2 .9-2 2v14c0 1.1.9 2 2 2h14c1.1 0 2-.9 2-2V5c0-1.1-.9-2-2-2zM9 17H7v-7h2v7zm4 0h-2V7h2v10zm4 0h-2v-4h2v4z\"/>\n",
              "    </g>\n",
              "</svg>\n",
              "  </button>\n",
              "\n",
              "<style>\n",
              "  .colab-df-quickchart {\n",
              "      --bg-color: #E8F0FE;\n",
              "      --fill-color: #1967D2;\n",
              "      --hover-bg-color: #E2EBFA;\n",
              "      --hover-fill-color: #174EA6;\n",
              "      --disabled-fill-color: #AAA;\n",
              "      --disabled-bg-color: #DDD;\n",
              "  }\n",
              "\n",
              "  [theme=dark] .colab-df-quickchart {\n",
              "      --bg-color: #3B4455;\n",
              "      --fill-color: #D2E3FC;\n",
              "      --hover-bg-color: #434B5C;\n",
              "      --hover-fill-color: #FFFFFF;\n",
              "      --disabled-bg-color: #3B4455;\n",
              "      --disabled-fill-color: #666;\n",
              "  }\n",
              "\n",
              "  .colab-df-quickchart {\n",
              "    background-color: var(--bg-color);\n",
              "    border: none;\n",
              "    border-radius: 50%;\n",
              "    cursor: pointer;\n",
              "    display: none;\n",
              "    fill: var(--fill-color);\n",
              "    height: 32px;\n",
              "    padding: 0;\n",
              "    width: 32px;\n",
              "  }\n",
              "\n",
              "  .colab-df-quickchart:hover {\n",
              "    background-color: var(--hover-bg-color);\n",
              "    box-shadow: 0 1px 2px rgba(60, 64, 67, 0.3), 0 1px 3px 1px rgba(60, 64, 67, 0.15);\n",
              "    fill: var(--button-hover-fill-color);\n",
              "  }\n",
              "\n",
              "  .colab-df-quickchart-complete:disabled,\n",
              "  .colab-df-quickchart-complete:disabled:hover {\n",
              "    background-color: var(--disabled-bg-color);\n",
              "    fill: var(--disabled-fill-color);\n",
              "    box-shadow: none;\n",
              "  }\n",
              "\n",
              "  .colab-df-spinner {\n",
              "    border: 2px solid var(--fill-color);\n",
              "    border-color: transparent;\n",
              "    border-bottom-color: var(--fill-color);\n",
              "    animation:\n",
              "      spin 1s steps(1) infinite;\n",
              "  }\n",
              "\n",
              "  @keyframes spin {\n",
              "    0% {\n",
              "      border-color: transparent;\n",
              "      border-bottom-color: var(--fill-color);\n",
              "      border-left-color: var(--fill-color);\n",
              "    }\n",
              "    20% {\n",
              "      border-color: transparent;\n",
              "      border-left-color: var(--fill-color);\n",
              "      border-top-color: var(--fill-color);\n",
              "    }\n",
              "    30% {\n",
              "      border-color: transparent;\n",
              "      border-left-color: var(--fill-color);\n",
              "      border-top-color: var(--fill-color);\n",
              "      border-right-color: var(--fill-color);\n",
              "    }\n",
              "    40% {\n",
              "      border-color: transparent;\n",
              "      border-right-color: var(--fill-color);\n",
              "      border-top-color: var(--fill-color);\n",
              "    }\n",
              "    60% {\n",
              "      border-color: transparent;\n",
              "      border-right-color: var(--fill-color);\n",
              "    }\n",
              "    80% {\n",
              "      border-color: transparent;\n",
              "      border-right-color: var(--fill-color);\n",
              "      border-bottom-color: var(--fill-color);\n",
              "    }\n",
              "    90% {\n",
              "      border-color: transparent;\n",
              "      border-bottom-color: var(--fill-color);\n",
              "    }\n",
              "  }\n",
              "</style>\n",
              "\n",
              "  <script>\n",
              "    async function quickchart(key) {\n",
              "      const quickchartButtonEl =\n",
              "        document.querySelector('#' + key + ' button');\n",
              "      quickchartButtonEl.disabled = true;  // To prevent multiple clicks.\n",
              "      quickchartButtonEl.classList.add('colab-df-spinner');\n",
              "      try {\n",
              "        const charts = await google.colab.kernel.invokeFunction(\n",
              "            'suggestCharts', [key], {});\n",
              "      } catch (error) {\n",
              "        console.error('Error during call to suggestCharts:', error);\n",
              "      }\n",
              "      quickchartButtonEl.classList.remove('colab-df-spinner');\n",
              "      quickchartButtonEl.classList.add('colab-df-quickchart-complete');\n",
              "    }\n",
              "    (() => {\n",
              "      let quickchartButtonEl =\n",
              "        document.querySelector('#df-ad791296-eb4b-4cd5-a6ea-1beabae3afd7 button');\n",
              "      quickchartButtonEl.style.display =\n",
              "        google.colab.kernel.accessAllowed ? 'block' : 'none';\n",
              "    })();\n",
              "  </script>\n",
              "</div>\n",
              "    </div>\n",
              "  </div>\n"
            ]
          },
          "metadata": {},
          "execution_count": 22
        }
      ]
    },
    {
      "cell_type": "code",
      "source": [
        "dataset = dataset.drop(\"duration\" , axis=1)"
      ],
      "metadata": {
        "id": "q5S8eAWLIrOT"
      },
      "execution_count": null,
      "outputs": []
    },
    {
      "cell_type": "markdown",
      "source": [
        "Se toma una muestra balanceada de tamaño 8204, con todos los 4102 registros de clientes que aceptaron el depósito a término y 4102 registros escogidos aleatoriamente entre los que no aceptaron, luego sobre esa muestra se toman los conjuntos de entrenamiento y prueba con una proporción 70/30 respectivamente.\n"
      ],
      "metadata": {
        "id": "ygBHPE6Teh8K"
      }
    },
    {
      "cell_type": "code",
      "source": [
        "group_sample_size = sum(dataset[\"y\"] == 1)\n",
        "balanced_dataset = dataset.groupby(\"y\", group_keys=False).apply(lambda x: x.sample(group_sample_size))\n",
        "X  = balanced_dataset.iloc[:,:-1]\n",
        "y = balanced_dataset.iloc[:,-1]\n",
        "X_train, X_test, y_train, y_test = train_test_split(X, y, test_size=0.3, random_state=0)"
      ],
      "metadata": {
        "id": "eKljpZXcghg5"
      },
      "execution_count": null,
      "outputs": []
    },
    {
      "cell_type": "markdown",
      "source": [
        "Se crea una red neuronal con dos capas intermedias, de 60 y 30 neuronas respectivamente, con función de activación relu. La capa de salida consiste de una única neurona cuya función de activación es sigmoide, para determinar la probabilidad de que el cliente adquiera el depósito."
      ],
      "metadata": {
        "id": "8romzY8efd5i"
      }
    },
    {
      "cell_type": "code",
      "source": [
        "model = tf.keras.models.Sequential(\n",
        "    [\n",
        "        #tf.keras.layers.InputLayer(input_shape=(30,)),\n",
        "        tf.keras.layers.InputLayer(input_shape=(29,)),\n",
        "        tf.keras.layers.Dense(60, activation=\"relu\"),\n",
        "        tf.keras.layers.Dense(30, activation=\"relu\"),\n",
        "        tf.keras.layers.Dense(1, activation=\"sigmoid\")\n",
        "    ]\n",
        ")"
      ],
      "metadata": {
        "id": "vQaCwA1DiD2f"
      },
      "execution_count": null,
      "outputs": []
    },
    {
      "cell_type": "markdown",
      "source": [
        "Dado que el resultado es binario se usa la función de pérdida de crosentropía binaria"
      ],
      "metadata": {
        "id": "ALptZXQof0cm"
      }
    },
    {
      "cell_type": "code",
      "source": [
        "model.compile(optimizer=\"adam\",\n",
        "              loss=\"binary_crossentropy\",\n",
        "              metrics=[\"accuracy\"])"
      ],
      "metadata": {
        "id": "VXFr9FkbktZ0"
      },
      "execution_count": null,
      "outputs": []
    },
    {
      "cell_type": "markdown",
      "source": [
        "Se entrena el modelo con los datos de entrenamiento y 50 epochs"
      ],
      "metadata": {
        "id": "FHtjMvbNgxUg"
      }
    },
    {
      "cell_type": "code",
      "source": [
        "model.fit(X_train,y_train, epochs=100)"
      ],
      "metadata": {
        "colab": {
          "base_uri": "https://localhost:8080/"
        },
        "id": "wdRhJIGvlF02",
        "outputId": "086ca335-2e47-4fd6-8afb-100ff9ba77af"
      },
      "execution_count": null,
      "outputs": [
        {
          "output_type": "stream",
          "name": "stdout",
          "text": [
            "Epoch 1/100\n",
            "180/180 [==============================] - 2s 3ms/step - loss: 0.6444 - accuracy: 0.6242\n",
            "Epoch 2/100\n",
            "180/180 [==============================] - 0s 2ms/step - loss: 0.6087 - accuracy: 0.6712\n",
            "Epoch 3/100\n",
            "180/180 [==============================] - 0s 2ms/step - loss: 0.5948 - accuracy: 0.6804\n",
            "Epoch 4/100\n",
            "180/180 [==============================] - 1s 4ms/step - loss: 0.5876 - accuracy: 0.6919\n",
            "Epoch 5/100\n",
            "180/180 [==============================] - 1s 5ms/step - loss: 0.5833 - accuracy: 0.6897\n",
            "Epoch 6/100\n",
            "180/180 [==============================] - 0s 2ms/step - loss: 0.5772 - accuracy: 0.6991\n",
            "Epoch 7/100\n",
            "180/180 [==============================] - 0s 2ms/step - loss: 0.5730 - accuracy: 0.7001\n",
            "Epoch 8/100\n",
            "180/180 [==============================] - 0s 2ms/step - loss: 0.5707 - accuracy: 0.6992\n",
            "Epoch 9/100\n",
            "180/180 [==============================] - 0s 2ms/step - loss: 0.5662 - accuracy: 0.7015\n",
            "Epoch 10/100\n",
            "180/180 [==============================] - 0s 2ms/step - loss: 0.5651 - accuracy: 0.7060\n",
            "Epoch 11/100\n",
            "180/180 [==============================] - 0s 2ms/step - loss: 0.5630 - accuracy: 0.7079\n",
            "Epoch 12/100\n",
            "180/180 [==============================] - 0s 2ms/step - loss: 0.5586 - accuracy: 0.7083\n",
            "Epoch 13/100\n",
            "180/180 [==============================] - 0s 2ms/step - loss: 0.5557 - accuracy: 0.7118\n",
            "Epoch 14/100\n",
            "180/180 [==============================] - 0s 2ms/step - loss: 0.5533 - accuracy: 0.7083\n",
            "Epoch 15/100\n",
            "180/180 [==============================] - 0s 2ms/step - loss: 0.5471 - accuracy: 0.7224\n",
            "Epoch 16/100\n",
            "180/180 [==============================] - 0s 2ms/step - loss: 0.5452 - accuracy: 0.7214\n",
            "Epoch 17/100\n",
            "180/180 [==============================] - 0s 2ms/step - loss: 0.5457 - accuracy: 0.7168\n",
            "Epoch 18/100\n",
            "180/180 [==============================] - 0s 2ms/step - loss: 0.5376 - accuracy: 0.7257\n",
            "Epoch 19/100\n",
            "180/180 [==============================] - 0s 2ms/step - loss: 0.5401 - accuracy: 0.7184\n",
            "Epoch 20/100\n",
            "180/180 [==============================] - 0s 2ms/step - loss: 0.5337 - accuracy: 0.7283\n",
            "Epoch 21/100\n",
            "180/180 [==============================] - 0s 2ms/step - loss: 0.5309 - accuracy: 0.7271\n",
            "Epoch 22/100\n",
            "180/180 [==============================] - 0s 2ms/step - loss: 0.5283 - accuracy: 0.7306\n",
            "Epoch 23/100\n",
            "180/180 [==============================] - 0s 2ms/step - loss: 0.5271 - accuracy: 0.7337\n",
            "Epoch 24/100\n",
            "180/180 [==============================] - 0s 2ms/step - loss: 0.5282 - accuracy: 0.7273\n",
            "Epoch 25/100\n",
            "180/180 [==============================] - 0s 2ms/step - loss: 0.5202 - accuracy: 0.7386\n",
            "Epoch 26/100\n",
            "180/180 [==============================] - 0s 2ms/step - loss: 0.5161 - accuracy: 0.7445\n",
            "Epoch 27/100\n",
            "180/180 [==============================] - 0s 2ms/step - loss: 0.5149 - accuracy: 0.7400\n",
            "Epoch 28/100\n",
            "180/180 [==============================] - 0s 2ms/step - loss: 0.5125 - accuracy: 0.7447\n",
            "Epoch 29/100\n",
            "180/180 [==============================] - 0s 3ms/step - loss: 0.5080 - accuracy: 0.7464\n",
            "Epoch 30/100\n",
            "180/180 [==============================] - 0s 2ms/step - loss: 0.5095 - accuracy: 0.7433\n",
            "Epoch 31/100\n",
            "180/180 [==============================] - 0s 3ms/step - loss: 0.5067 - accuracy: 0.7470\n",
            "Epoch 32/100\n",
            "180/180 [==============================] - 0s 2ms/step - loss: 0.4988 - accuracy: 0.7517\n",
            "Epoch 33/100\n",
            "180/180 [==============================] - 1s 3ms/step - loss: 0.4988 - accuracy: 0.7496\n",
            "Epoch 34/100\n",
            "180/180 [==============================] - 1s 3ms/step - loss: 0.4958 - accuracy: 0.7534\n",
            "Epoch 35/100\n",
            "180/180 [==============================] - 0s 3ms/step - loss: 0.4923 - accuracy: 0.7520\n",
            "Epoch 36/100\n",
            "180/180 [==============================] - 0s 3ms/step - loss: 0.4871 - accuracy: 0.7604\n",
            "Epoch 37/100\n",
            "180/180 [==============================] - 1s 3ms/step - loss: 0.4829 - accuracy: 0.7572\n",
            "Epoch 38/100\n",
            "180/180 [==============================] - 0s 2ms/step - loss: 0.4825 - accuracy: 0.7638\n",
            "Epoch 39/100\n",
            "180/180 [==============================] - 0s 2ms/step - loss: 0.4864 - accuracy: 0.7544\n",
            "Epoch 40/100\n",
            "180/180 [==============================] - 0s 2ms/step - loss: 0.4799 - accuracy: 0.7631\n",
            "Epoch 41/100\n",
            "180/180 [==============================] - 0s 2ms/step - loss: 0.4751 - accuracy: 0.7713\n",
            "Epoch 42/100\n",
            "180/180 [==============================] - 0s 2ms/step - loss: 0.4749 - accuracy: 0.7677\n",
            "Epoch 43/100\n",
            "180/180 [==============================] - 0s 2ms/step - loss: 0.4712 - accuracy: 0.7703\n",
            "Epoch 44/100\n",
            "180/180 [==============================] - 0s 2ms/step - loss: 0.4700 - accuracy: 0.7679\n",
            "Epoch 45/100\n",
            "180/180 [==============================] - 0s 2ms/step - loss: 0.4632 - accuracy: 0.7745\n",
            "Epoch 46/100\n",
            "180/180 [==============================] - 0s 2ms/step - loss: 0.4655 - accuracy: 0.7706\n",
            "Epoch 47/100\n",
            "180/180 [==============================] - 0s 2ms/step - loss: 0.4641 - accuracy: 0.7746\n",
            "Epoch 48/100\n",
            "180/180 [==============================] - 0s 2ms/step - loss: 0.4609 - accuracy: 0.7771\n",
            "Epoch 49/100\n",
            "180/180 [==============================] - 0s 2ms/step - loss: 0.4578 - accuracy: 0.7797\n",
            "Epoch 50/100\n",
            "180/180 [==============================] - 0s 2ms/step - loss: 0.4576 - accuracy: 0.7804\n",
            "Epoch 51/100\n",
            "180/180 [==============================] - 0s 2ms/step - loss: 0.4530 - accuracy: 0.7800\n",
            "Epoch 52/100\n",
            "180/180 [==============================] - 0s 2ms/step - loss: 0.4515 - accuracy: 0.7834\n",
            "Epoch 53/100\n",
            "180/180 [==============================] - 0s 2ms/step - loss: 0.4475 - accuracy: 0.7825\n",
            "Epoch 54/100\n",
            "180/180 [==============================] - 0s 2ms/step - loss: 0.4503 - accuracy: 0.7813\n",
            "Epoch 55/100\n",
            "180/180 [==============================] - 0s 2ms/step - loss: 0.4452 - accuracy: 0.7898\n",
            "Epoch 56/100\n",
            "180/180 [==============================] - 0s 2ms/step - loss: 0.4464 - accuracy: 0.7865\n",
            "Epoch 57/100\n",
            "180/180 [==============================] - 0s 2ms/step - loss: 0.4435 - accuracy: 0.7825\n",
            "Epoch 58/100\n",
            "180/180 [==============================] - 0s 2ms/step - loss: 0.4391 - accuracy: 0.7875\n",
            "Epoch 59/100\n",
            "180/180 [==============================] - 0s 2ms/step - loss: 0.4392 - accuracy: 0.7898\n",
            "Epoch 60/100\n",
            "180/180 [==============================] - 0s 2ms/step - loss: 0.4370 - accuracy: 0.7936\n",
            "Epoch 61/100\n",
            "180/180 [==============================] - 0s 2ms/step - loss: 0.4373 - accuracy: 0.7854\n",
            "Epoch 62/100\n",
            "180/180 [==============================] - 0s 2ms/step - loss: 0.4332 - accuracy: 0.7914\n",
            "Epoch 63/100\n",
            "180/180 [==============================] - 0s 2ms/step - loss: 0.4303 - accuracy: 0.7928\n",
            "Epoch 64/100\n",
            "180/180 [==============================] - 0s 2ms/step - loss: 0.4326 - accuracy: 0.7894\n",
            "Epoch 65/100\n",
            "180/180 [==============================] - 0s 2ms/step - loss: 0.4265 - accuracy: 0.7975\n",
            "Epoch 66/100\n",
            "180/180 [==============================] - 0s 2ms/step - loss: 0.4273 - accuracy: 0.7947\n",
            "Epoch 67/100\n",
            "180/180 [==============================] - 0s 2ms/step - loss: 0.4271 - accuracy: 0.7936\n",
            "Epoch 68/100\n",
            "180/180 [==============================] - 1s 3ms/step - loss: 0.4235 - accuracy: 0.7985\n",
            "Epoch 69/100\n",
            "180/180 [==============================] - 0s 2ms/step - loss: 0.4193 - accuracy: 0.7990\n",
            "Epoch 70/100\n",
            "180/180 [==============================] - 0s 3ms/step - loss: 0.4231 - accuracy: 0.8002\n",
            "Epoch 71/100\n",
            "180/180 [==============================] - 0s 3ms/step - loss: 0.4184 - accuracy: 0.7995\n",
            "Epoch 72/100\n",
            "180/180 [==============================] - 0s 3ms/step - loss: 0.4190 - accuracy: 0.8011\n",
            "Epoch 73/100\n",
            "180/180 [==============================] - 0s 3ms/step - loss: 0.4188 - accuracy: 0.7954\n",
            "Epoch 74/100\n",
            "180/180 [==============================] - 0s 3ms/step - loss: 0.4164 - accuracy: 0.8025\n",
            "Epoch 75/100\n",
            "180/180 [==============================] - 0s 3ms/step - loss: 0.4130 - accuracy: 0.8029\n",
            "Epoch 76/100\n",
            "180/180 [==============================] - 0s 3ms/step - loss: 0.4102 - accuracy: 0.8063\n",
            "Epoch 77/100\n",
            "180/180 [==============================] - 0s 2ms/step - loss: 0.4109 - accuracy: 0.8041\n",
            "Epoch 78/100\n",
            "180/180 [==============================] - 0s 2ms/step - loss: 0.4103 - accuracy: 0.8034\n",
            "Epoch 79/100\n",
            "180/180 [==============================] - 0s 2ms/step - loss: 0.4083 - accuracy: 0.8049\n",
            "Epoch 80/100\n",
            "180/180 [==============================] - 0s 2ms/step - loss: 0.4038 - accuracy: 0.8119\n",
            "Epoch 81/100\n",
            "180/180 [==============================] - 0s 2ms/step - loss: 0.4014 - accuracy: 0.8062\n",
            "Epoch 82/100\n",
            "180/180 [==============================] - 0s 2ms/step - loss: 0.4048 - accuracy: 0.8044\n",
            "Epoch 83/100\n",
            "180/180 [==============================] - 0s 2ms/step - loss: 0.4029 - accuracy: 0.8088\n",
            "Epoch 84/100\n",
            "180/180 [==============================] - 0s 2ms/step - loss: 0.3991 - accuracy: 0.8076\n",
            "Epoch 85/100\n",
            "180/180 [==============================] - 0s 2ms/step - loss: 0.3965 - accuracy: 0.8131\n",
            "Epoch 86/100\n",
            "180/180 [==============================] - 0s 2ms/step - loss: 0.3957 - accuracy: 0.8105\n",
            "Epoch 87/100\n",
            "180/180 [==============================] - 0s 2ms/step - loss: 0.3976 - accuracy: 0.8128\n",
            "Epoch 88/100\n",
            "180/180 [==============================] - 0s 2ms/step - loss: 0.3935 - accuracy: 0.8154\n",
            "Epoch 89/100\n",
            "180/180 [==============================] - 0s 2ms/step - loss: 0.3922 - accuracy: 0.8156\n",
            "Epoch 90/100\n",
            "180/180 [==============================] - 0s 2ms/step - loss: 0.3890 - accuracy: 0.8147\n",
            "Epoch 91/100\n",
            "180/180 [==============================] - 0s 2ms/step - loss: 0.3886 - accuracy: 0.8157\n",
            "Epoch 92/100\n",
            "180/180 [==============================] - 0s 2ms/step - loss: 0.3887 - accuracy: 0.8171\n",
            "Epoch 93/100\n",
            "180/180 [==============================] - 0s 2ms/step - loss: 0.3920 - accuracy: 0.8145\n",
            "Epoch 94/100\n",
            "180/180 [==============================] - 0s 2ms/step - loss: 0.3893 - accuracy: 0.8182\n",
            "Epoch 95/100\n",
            "180/180 [==============================] - 0s 2ms/step - loss: 0.3835 - accuracy: 0.8206\n",
            "Epoch 96/100\n",
            "180/180 [==============================] - 0s 2ms/step - loss: 0.3862 - accuracy: 0.8138\n",
            "Epoch 97/100\n",
            "180/180 [==============================] - 0s 2ms/step - loss: 0.3804 - accuracy: 0.8201\n",
            "Epoch 98/100\n",
            "180/180 [==============================] - 0s 2ms/step - loss: 0.3838 - accuracy: 0.8178\n",
            "Epoch 99/100\n",
            "180/180 [==============================] - 0s 2ms/step - loss: 0.3794 - accuracy: 0.8222\n",
            "Epoch 100/100\n",
            "180/180 [==============================] - 0s 2ms/step - loss: 0.3828 - accuracy: 0.8147\n"
          ]
        },
        {
          "output_type": "execute_result",
          "data": {
            "text/plain": [
              "<keras.src.callbacks.History at 0x78445e56dab0>"
            ]
          },
          "metadata": {},
          "execution_count": 27
        }
      ]
    },
    {
      "cell_type": "markdown",
      "source": [
        "Se encuentran las probabilidades de que los clientes del conjunto de prueba adquieran el depósito"
      ],
      "metadata": {
        "id": "wHJrJJeRg0zN"
      }
    },
    {
      "cell_type": "code",
      "source": [
        "prediction_probabilities =  model.predict(X_test)"
      ],
      "metadata": {
        "colab": {
          "base_uri": "https://localhost:8080/"
        },
        "id": "zjhs-pV_pUHr",
        "outputId": "3b7b1e93-ec64-4010-bb87-1c48f2ba612c"
      },
      "execution_count": null,
      "outputs": [
        {
          "output_type": "stream",
          "name": "stdout",
          "text": [
            "77/77 [==============================] - 0s 1ms/step\n"
          ]
        }
      ]
    },
    {
      "cell_type": "markdown",
      "source": [
        "Se define un umbral de corte para determinar si el cliente adquiere el servicio. Si la probabilidad de que lo adquiera es mayor a 0.5, se interpreta como que el cliente lo va a hacer, de lo contrario se interpreta como si no. Posteriormente se imprime la matriz de confusión"
      ],
      "metadata": {
        "id": "Q0JPsqIrhGwA"
      }
    },
    {
      "cell_type": "code",
      "source": [
        "import matplotlib.pyplot as plt\n",
        "\n",
        "y_predicted = (prediction_probabilities >= 0.5).astype(\"int\")\n",
        "cm =confusion_matrix(y_test, y_predicted)\n",
        "disp = ConfusionMatrixDisplay(confusion_matrix=cm , display_labels=[\"No acepta\", \"Sí acepta\"])\n",
        "disp.plot()\n",
        "plt.show()"
      ],
      "metadata": {
        "colab": {
          "base_uri": "https://localhost:8080/",
          "height": 451
        },
        "id": "LhbJ57CXpg8H",
        "outputId": "6b525dee-8882-42d7-b966-1215fce91e78"
      },
      "execution_count": null,
      "outputs": [
        {
          "output_type": "display_data",
          "data": {
            "text/plain": [
              "<Figure size 640x480 with 2 Axes>"
            ],
            "image/png": "[encoded data removed]"
          },
          "metadata": {}
        }
      ]
    },
    {
      "cell_type": "markdown",
      "source": [
        "La precisión, sensibilidad, especificidad y f1-score para el modelo, prediciendo sobre el conjunto de prueba, son:"
      ],
      "metadata": {
        "id": "L3ufdssbibYc"
      }
    },
    {
      "cell_type": "code",
      "source": [
        "accuracy = (cm[0,0] + cm[1,1]) / (y_predicted.shape[0])\n",
        "sensitivity = cm[1,1] / (cm[1,0] + cm[1,1])\n",
        "specificity = cm[0,0] / (cm[0,0] + cm[0,1])\n",
        "precision = cm[1,1] / (cm[0,1] + cm[1,1])\n",
        "f1_score = 2 * (precision*sensitivity) /(precision+sensitivity)\n",
        "\n",
        "print(f\"Exactitud: {accuracy: .3f}\" )\n",
        "print(f\"Sensibilidad: {sensitivity: .3f}\" )\n",
        "print(f\"Especificidad: {specificity: .3f}\" )\n",
        "print(f\"f1-score: {f1_score: .3f}\" )\n"
      ],
      "metadata": {
        "colab": {
          "base_uri": "https://localhost:8080/"
        },
        "id": "w99UN0fOin00",
        "outputId": "a8b318d9-fd7f-4a6b-99cc-d03126b526a1"
      },
      "execution_count": null,
      "outputs": [
        {
          "output_type": "stream",
          "name": "stdout",
          "text": [
            "Exactitud:  0.671\n",
            "Sensibilidad:  0.601\n",
            "Especificidad:  0.743\n",
            "f1-score:  0.723\n"
          ]
        }
      ]
    },
    {
      "cell_type": "markdown",
      "source": [
        "Fe de erratas:\n",
        "El f1-score de la anterior celda está mal calculado, en verdad f1_score = 0.648"
      ],
      "metadata": {
        "id": "5ohhU4x65AZ0"
      }
    },
    {
      "cell_type": "markdown",
      "source": [
        "Se observa que se obtienen buenos puntajes sobre el conjunto de prueba. Ahora la curva ROC es la siguiente"
      ],
      "metadata": {
        "id": "8nTnCavjk3zZ"
      }
    },
    {
      "cell_type": "code",
      "source": [
        "import seaborn as sns\n",
        "roc = roc_curve(y_test, prediction_probabilities)\n",
        "\n",
        "sns.set_style(\"whitegrid\")\n",
        "sns.lineplot( x = roc[0], y = roc[1]).set(title='Curva ROC')\n",
        "#plt.plot(roc[0] , roc[1])"
      ],
      "metadata": {
        "colab": {
          "base_uri": "https://localhost:8080/",
          "height": 469
        },
        "id": "yacqkc3WP6FQ",
        "outputId": "18e70c85-5e84-4bc5-9892-04c0ec2144b1"
      },
      "execution_count": null,
      "outputs": [
        {
          "output_type": "execute_result",
          "data": {
            "text/plain": [
              "[Text(0.5, 1.0, 'Curva ROC')]"
            ]
          },
          "metadata": {},
          "execution_count": 31
        },
        {
          "output_type": "display_data",
          "data": {
            "text/plain": [
              "<Figure size 640x480 with 1 Axes>"
            ],
            "image/png": "[encoded data removed]"
          },
          "metadata": {}
        }
      ]
    },
    {
      "cell_type": "markdown",
      "source": [
        "El valor bajo la curva roc es:"
      ],
      "metadata": {
        "id": "zV-4WHFFmnXP"
      }
    },
    {
      "cell_type": "code",
      "source": [
        "auc = roc_auc_score(y_test, prediction_probabilities)\n",
        "print(f\"AUC: {auc:.3f}\")"
      ],
      "metadata": {
        "colab": {
          "base_uri": "https://localhost:8080/"
        },
        "id": "NdgRM673mr3P",
        "outputId": "b04e3e3c-1344-428e-edc8-0ae31ed33ddf"
      },
      "execution_count": null,
      "outputs": [
        {
          "output_type": "stream",
          "name": "stdout",
          "text": [
            "AUC: 0.714\n"
          ]
        }
      ]
    },
    {
      "cell_type": "markdown",
      "source": [
        "Evaluando el modelo sobre el conjunto de datos numérico original (sobre el que se hizo la muestra):"
      ],
      "metadata": {
        "id": "iajYUt7JnRH1"
      }
    },
    {
      "cell_type": "code",
      "source": [
        "X = dataset.iloc[:,0:-1]\n",
        "y = dataset.iloc[:,-1]\n",
        "\n",
        "sns.set_style(\"white\")\n",
        "y_predicted_all_probabilities =  model.predict(X)\n",
        "y_predicted_all = (y_predicted_all_probabilities >= 0.5).astype(\"int\")\n",
        "cm =confusion_matrix(y, y_predicted_all)\n",
        "disp = ConfusionMatrixDisplay(confusion_matrix=cm)\n",
        "disp.plot()\n",
        "plt.show()"
      ],
      "metadata": {
        "colab": {
          "base_uri": "https://localhost:8080/",
          "height": 466
        },
        "id": "JIJ7fgYHYdzA",
        "outputId": "163f5ae0-1616-4884-a17f-885e1cc5d060"
      },
      "execution_count": null,
      "outputs": [
        {
          "output_type": "stream",
          "name": "stdout",
          "text": [
            "1285/1285 [==============================] - 3s 2ms/step\n"
          ]
        },
        {
          "output_type": "display_data",
          "data": {
            "text/plain": [
              "<Figure size 640x480 with 2 Axes>"
            ],
            "image/png": "[encoded data removed]"
          },
          "metadata": {}
        }
      ]
    },
    {
      "cell_type": "code",
      "source": [
        "accuracy = (cm[0,0] + cm[1,1]) / (y_predicted_all_probabilities.shape[0])\n",
        "sensitivity = cm[1,1] / (cm[1,0] + cm[1,1])\n",
        "specificity = cm[0,0] / (cm[0,0] + cm[0,1])\n",
        "precision = cm[1,1] / (cm[0,1] + cm[1,1])\n",
        "recall = cm[0,0] / (cm[0,0] + cm[0,1])\n",
        "f1_score = 2 * (precision*recall) /(precision+recall)\n",
        "\n",
        "print(f\"Exactitud: {accuracy: .3f}\" )\n",
        "print(f\"Sensibilidad: {sensitivity: .3f}\" )\n",
        "print(f\"Especificidad: {specificity: .3f}\" )\n",
        "print(f\"f1-score: {f1_score: .3f}\" )"
      ],
      "metadata": {
        "colab": {
          "base_uri": "https://localhost:8080/"
        },
        "id": "LOGq2L6sne6g",
        "outputId": "d0478694-c0bd-4584-8bb9-7dc6170273b3"
      },
      "execution_count": null,
      "outputs": [
        {
          "output_type": "stream",
          "name": "stdout",
          "text": [
            "Exactitud:  0.747\n",
            "Sensibilidad:  0.717\n",
            "Especificidad:  0.750\n",
            "f1-score:  0.365\n"
          ]
        }
      ]
    },
    {
      "cell_type": "markdown",
      "source": [
        "Se observa que el f1-score disminuyó, pero las demás medidas se mantuvieron en valores cercanos a los originales."
      ],
      "metadata": {
        "id": "9xAUIGUnnhfO"
      }
    },
    {
      "cell_type": "code",
      "source": [
        "roc = roc_curve(y, y_predicted_all_probabilities)\n",
        "\n",
        "sns.set_style(\"whitegrid\")\n",
        "sns.lineplot( x = roc[0], y = roc[1]).set(title='Curva ROC')"
      ],
      "metadata": {
        "colab": {
          "base_uri": "https://localhost:8080/",
          "height": 469
        },
        "id": "R5r-nDc9ZJUn",
        "outputId": "928fe3e1-eeaf-4ada-f361-0efc99a220bc"
      },
      "execution_count": null,
      "outputs": [
        {
          "output_type": "execute_result",
          "data": {
            "text/plain": [
              "[Text(0.5, 1.0, 'Curva ROC')]"
            ]
          },
          "metadata": {},
          "execution_count": 35
        },
        {
          "output_type": "display_data",
          "data": {
            "text/plain": [
              "<Figure size 640x480 with 1 Axes>"
            ],
            "image/png": "[encoded data removed]"
          },
          "metadata": {}
        }
      ]
    },
    {
      "cell_type": "code",
      "source": [
        "auc = roc_auc_score(y, y_predicted_all_probabilities)\n",
        "print(f\"AUC: {auc:.3f}\")"
      ],
      "metadata": {
        "colab": {
          "base_uri": "https://localhost:8080/"
        },
        "id": "SCMZ3oKIoZA9",
        "outputId": "c73d47d0-8bdb-47b3-cc02-7efcf707b3dd"
      },
      "execution_count": null,
      "outputs": [
        {
          "output_type": "stream",
          "name": "stdout",
          "text": [
            "AUC: 0.914\n"
          ]
        }
      ]
    },
    {
      "cell_type": "markdown",
      "source": [
        "Se observa que el valor de AUC aumentó respecto al conjunto de prueba."
      ],
      "metadata": {
        "id": "lyViLKjzohq2"
      }
    }
  ]
}